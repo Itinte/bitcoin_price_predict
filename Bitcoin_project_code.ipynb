{
 "cells": [
  {
   "cell_type": "code",
   "execution_count": 1,
   "metadata": {},
   "outputs": [
    {
     "name": "stderr",
     "output_type": "stream",
     "text": [
      "Using TensorFlow backend.\n"
     ]
    }
   ],
   "source": [
    "# import relevant libraries\n",
    "\n",
    "# import data analysis libraries\n",
    "import pandas as pd\n",
    "import numpy as np\n",
    "import matplotlib.pyplot as plt\n",
    "import seaborn as sns\n",
    "# import utilities libraries\n",
    "import itertools\n",
    "import os\n",
    "# import data consumption API\n",
    "import quandl\n",
    "# import machine learning libraries\n",
    "from sklearn.linear_model import LogisticRegression\n",
    "from sklearn.feature_selection import SelectFromModel\n",
    "from sklearn.ensemble import RandomForestClassifier\n",
    "from sklearn.preprocessing import MinMaxScaler\n",
    "from pandas.tseries.offsets import *\n",
    "from sklearn.model_selection import TimeSeriesSplit\n",
    "from sklearn.metrics import confusion_matrix, classification_report, accuracy_score\n",
    "# import deep learning libraries\n",
    "from keras.models import Sequential\n",
    "from keras.layers import Activation, Dense\n",
    "from keras.layers import LSTM\n",
    "from keras.layers import Dropout\n",
    "# remove warnings\n",
    "import warnings\n",
    "warnings.filterwarnings('ignore')"
   ]
  },
  {
   "cell_type": "markdown",
   "metadata": {},
   "source": [
    "### Some useful functions"
   ]
  },
  {
   "cell_type": "code",
   "execution_count": 2,
   "metadata": {
    "collapsed": true
   },
   "outputs": [],
   "source": [
    "#get the same index as the features vector for the target\n",
    "def set_index(features, target):\n",
    "    \n",
    "    #remove the too many index at the end\n",
    "    time_delta = int((features.index[-1] - target.index[-1]).days)\n",
    "    target_bis = target[:time_delta]\n",
    "    \n",
    "    print('delta removed: '+ str(- time_delta))\n",
    "    return target_bis"
   ]
  },
  {
   "cell_type": "code",
   "execution_count": 3,
   "metadata": {
    "collapsed": true
   },
   "outputs": [],
   "source": [
    "#define a function to split a correct train and test set\n",
    "def split_train_test(features, target, history, horizon, verbose = True):\n",
    "    \n",
    "    #check the equality of the indexes of the features set and the target\n",
    "    assert (features.index[0] == target.index[0]) & (features.index[-1] == target.index[-1])\n",
    "    \n",
    "    X_train = features[-(history):-horizon]\n",
    "    y_train = target[-(history):-horizon]\n",
    "    X_test = features[-horizon:]\n",
    "    y_test = target[-horizon:]\n",
    "    \n",
    "    if verbose == True:\n",
    "        print('Training set: ' + str(X_train.index[0]) + ' to ' + str(X_train.index[-1]) + ' ; Days:'+ str(len(X_train))+ '\\n'\n",
    "              ' Testing set: ' + str(X_test.index[0]) + ' to ' + str(X_test.index[-1]) + ' ; Days:'+ str(len(X_test)))\n",
    "\n",
    "    return X_train, y_train, X_test, y_test\n",
    "    "
   ]
  },
  {
   "cell_type": "code",
   "execution_count": 4,
   "metadata": {
    "collapsed": true
   },
   "outputs": [],
   "source": [
    "#define a function to find combinations of features\n",
    "def features_combin(k):\n",
    "    comb_k = {}\n",
    "    comb_k = list(itertools.combinations(df_features.columns, k))\n",
    "    return comb_k"
   ]
  },
  {
   "cell_type": "code",
   "execution_count": 5,
   "metadata": {
    "collapsed": true
   },
   "outputs": [],
   "source": [
    "#function to set the training and test with the right features\n",
    "def set_features(df, features_list):\n",
    "    train = df[features_list]\n",
    "    return train"
   ]
  },
  {
   "cell_type": "code",
   "execution_count": 6,
   "metadata": {
    "collapsed": true
   },
   "outputs": [],
   "source": [
    "# define our rolling cross validation function\n",
    "def rolling_prediction(model, train, target_train, test, target_test, verbose = 2):\n",
    "    \n",
    "    y_predict = []\n",
    "    k =0\n",
    "    \n",
    "    for i in range(len(test)):\n",
    "        \n",
    "        k+=1\n",
    "        \n",
    "        #build a full df for rolling window\n",
    "        X_full = train.append(test)\n",
    "        y_full = target_train.append(target_test)\n",
    "        \n",
    "        #set X_full to the right features\n",
    "        X_full = set_features(X_full, list(features[c]))\n",
    "        \n",
    "        #every predictions except the last:\n",
    "        if k < len(test):\n",
    "        \n",
    "            # fit the model until i\n",
    "            X_train_temp = X_full[:len(train)+i]\n",
    "            y_train_temp = y_full[:len(target_train)+i]\n",
    "            \n",
    "\n",
    "            if verbose >= 2:\n",
    "                print('TRAIN:', X_train_temp.index)\n",
    "\n",
    "            model.fit(X_train_temp, y_train_temp)\n",
    "\n",
    "            #predict next day\n",
    "            X_test_temp = X_full[-len(test)+i:-len(test)+i+1]\n",
    "            y_test_temp = y_full[-len(test)+i:-len(test)+i+1]\n",
    "\n",
    "            if verbose >= 2:\n",
    "                print('TEST:', y_test_temp.index)\n",
    "            \n",
    "            if verbose >= 1:\n",
    "                print('Prediction n°:',k, '; test_value:', y_test_temp.values)\n",
    "            \n",
    "            y_predict.append(int(model.predict(X_test_temp.values)))\n",
    "            \n",
    "            if verbose >= 1:\n",
    "                print('value predicted:', model.predict(X_test_temp.values), \n",
    "                      '; accurate:', y_test_temp.values == model.predict(X_test_temp.values))\n",
    "            \n",
    "        \n",
    "        #last prediction             \n",
    "        else: \n",
    "            \n",
    "             # fit the model until i\n",
    "            X_train_temp = X_full[:-1]\n",
    "            y_train_temp = y_full[:-1]            \n",
    "\n",
    "            if verbose >= 2:\n",
    "                print('TRAIN:', X_train_temp.index)\n",
    "\n",
    "            model.fit(X_train_temp, y_train_temp)\n",
    "\n",
    "            #predict next day\n",
    "            X_test_temp = X_full[-1:]\n",
    "            y_test_temp = y_full[-1:]\n",
    "\n",
    "            if verbose >= 2:\n",
    "                print('TEST:', y_test_temp.index)\n",
    "                \n",
    "            if verbose >= 1:\n",
    "                print('Prediction n°:',k, '; test_value:', y_test_temp.values)\n",
    "\n",
    "            y_predict.append(int(model.predict(X_test_temp.values)))\n",
    "            \n",
    "            if verbose >= 1:\n",
    "                print('value predicted:', model.predict(X_test_temp.values), \n",
    "                      '; accurate:', y_test_temp.values == model.predict(X_test_temp.values))\n",
    "                \n",
    "        if verbose >=1:\n",
    "            print('--------------------------------------------------------------------------------')\n",
    "     \n",
    "    y_predict = np.asarray(y_predict) \n",
    "        \n",
    "    return y_predict "
   ]
  },
  {
   "cell_type": "code",
   "execution_count": 7,
   "metadata": {
    "collapsed": true
   },
   "outputs": [],
   "source": [
    "# make a variable stationary\n",
    "def stationaring(df, var):\n",
    "    df[var] = (df[var] - df[var].shift(+1)>0)*1"
   ]
  },
  {
   "cell_type": "markdown",
   "metadata": {
    "collapsed": true
   },
   "source": [
    "## I - Data collection & cleaning \n",
    "\n",
    "Our data consists features gathered from the [Quandl](https://www.quandl.com/search?query=bitcoin) API. Quandl is a powerful data source API for financial data and it provides an easy and inuitive access to clean accurate data on a myriad of finacial applications.\n",
    "Our chosen features were the following: <br>\n",
    "1. Number of Bitcoin transactions/day: Number of Bitcoin transactions/day\n",
    "2. Number of Bitcoin users: Number of Bitcoin users\n",
    "3. Volume of Bitcoin transactions: Volume of all transactions\n",
    "4. Bitcoin Average Block Size: Average Blockchain size\n",
    "5. Total Bitcoin Block Size: Total Blockchain size\n",
    "6. Bitcoin Transaction Confirmation Time: Amount of time needed to confirm a transaction\n",
    "7. Bitcoin Miner Revenue: Revenue made by miners\n",
    "8. Bitcoin Hash Rate: Computational resources needed to mine a bitcoin\n",
    "9. Bitcoin Cost per Transaction: Cost per Bitcoin transaction\n",
    "10. Bitcoin cost percentage on transaction volume: Proportion of Cost relative to total transaction volume\n",
    "11. Bitcoin USD trade volume: Total Volume in USD\n",
    "12. Bitcoin Estimated Transaction Volume: Estimated transaction volume\n",
    "13. Bitcoin Total Output Volume: Bitcoin Total Volume \n",
    "14. Bitcoin Transactions/Block: Number of transactions per block\n",
    "15. Bitcoin Number of Adresses Used: Number of unique devices on the network\n",
    "16. Bitcoin Non Popular Adresses: Non popular adresses\n",
    "17. Bitcoin Total Transactions: Total transactions on the chain in USD\n",
    "18. Bitcoin Number of Transactions: Number of transactions on the chain\n",
    "19. Bitcoin Transaction fees: Transaction Fees\n",
    "20. Bitcoin Market Cap: Bitcoin Market Capitalization\n",
    "21. Bitcoin Mining Operating Margin: Operating margin of all miners"
   ]
  },
  {
   "cell_type": "code",
   "execution_count": 73,
   "metadata": {
    "collapsed": true
   },
   "outputs": [],
   "source": [
    "# import the Reddit dataset\n",
    "colnames=['redditors_growth'] \n",
    "df_subreddit = pd.read_csv('C:/Users/qbblo/Desktop/ESSEC Cours/ML/ML project/data/subreddits_new.csv', sep=',', index_col = 0, names=colnames, header=None)"
   ]
  },
  {
   "cell_type": "code",
   "execution_count": 74,
   "metadata": {
    "collapsed": true
   },
   "outputs": [],
   "source": [
    "#create the dictionnary of the features-keys/features-names from the quandl API\n",
    "features_dic = {}\n",
    "features_dic['MWNTD'] = 'BTC Transactions/day' \n",
    "features_dic['MWNUS'] = 'BTC Users'\n",
    "features_dic['MWTRV'] = 'BTC Transactions Volume' \n",
    "features_dic['AVBLS'] = 'BTC Avg Block Size'\n",
    "features_dic['BLCHS'] = 'BTC Blockchain Size'\n",
    "features_dic['ATRCT'] = 'BTC Transaction Confirmation Time'\n",
    "features_dic['MIREV'] = 'BTC Miner Revenue'\n",
    "features_dic['HRATE'] = 'BTC Hash Rate'\n",
    "features_dic['CPTRA'] = 'BTC Cost Per Transaction'\n",
    "features_dic['CPTRV'] = 'BTC Cost % of Transaction Volume'\n",
    "features_dic['TRVOU'] = 'BTC USD Trade Volume'\n",
    "features_dic['ETRAV'] = 'BTC Estimated Transaction Volume'\n",
    "features_dic['TOUTV'] = 'BTC Total Output Volume'\n",
    "features_dic['NTRBL'] = 'BTC Transactions/Block'\n",
    "features_dic['NADDU'] = 'BTC Number of Adresses Used' \n",
    "features_dic['NTREP'] = 'BTC Non Popular Adresses'\n",
    "features_dic['NTRAT'] = 'BTC Total Transactions' \n",
    "features_dic['NTRAN'] = 'BTC Number of Transactions' \n",
    "features_dic['TRFUS'] = 'BTC Transaction Fees'\n",
    "features_dic['MKTCP'] = 'BTC Market Cap'\n",
    "features_dic['MIOPM'] = 'BTC Mining Operating Margin'"
   ]
  },
  {
   "cell_type": "code",
   "execution_count": 75,
   "metadata": {
    "collapsed": true
   },
   "outputs": [],
   "source": [
    "#create a list of features to call from the API\n",
    "features_list = [\"BCHAIN/\"+i for i in features_dic.keys()]"
   ]
  },
  {
   "cell_type": "code",
   "execution_count": 76,
   "metadata": {
    "collapsed": true
   },
   "outputs": [],
   "source": [
    "#call the API on the selected features\n",
    "df_features = quandl.get(features_list, authtoken=\"SZZFknPhN2FSv2nZW_f6\")"
   ]
  },
  {
   "cell_type": "code",
   "execution_count": 77,
   "metadata": {
    "collapsed": true
   },
   "outputs": [],
   "source": [
    "#get the right features columns names\n",
    "df_features.columns = list(features_dic.values())"
   ]
  },
  {
   "cell_type": "code",
   "execution_count": 78,
   "metadata": {
    "collapsed": true
   },
   "outputs": [],
   "source": [
    "#get the final dataset by concatening the reddit data and the data from quandl \n",
    "df_full = pd.concat([df_features, df_subreddit], join='inner', axis=1)"
   ]
  },
  {
   "cell_type": "code",
   "execution_count": 79,
   "metadata": {
    "collapsed": true
   },
   "outputs": [],
   "source": [
    "#call the quandl API to get the Bitcoin price data to set the target vector\n",
    "df_target_delta = quandl.get(\"BCHAIN/MKPRU\", authtoken=\"SZZFknPhN2FSv2nZW_f6\", transform = 'diff', start_date ='29-10-2012')\n",
    "df_target = quandl.get(\"BCHAIN/MKPRU\", authtoken=\"SZZFknPhN2FSv2nZW_f6\",start_date ='29-10-2012')"
   ]
  },
  {
   "cell_type": "markdown",
   "metadata": {
    "collapsed": true
   },
   "source": [
    "## II - Data exploration\n",
    "Let's try to explore our data and visualize how some of our features might be correlated, and what might be performative features in our analysis moving forward."
   ]
  },
  {
   "cell_type": "markdown",
   "metadata": {},
   "source": [
    "### II - a) Features visualization"
   ]
  },
  {
   "cell_type": "code",
   "execution_count": 81,
   "metadata": {},
   "outputs": [
    {
     "data": {
      "image/png": "[encoded data removed]",
      "text/plain": [
       "<matplotlib.figure.Figure at 0x2a0dcfa1550>"
      ]
     },
     "metadata": {},
     "output_type": "display_data"
    }
   ],
   "source": [
    "#plot the reddit subscribers growth versus the price growth\n",
    "fig=plt.figure(figsize=(9,5))\n",
    "\n",
    "ax=fig.add_subplot(111, label=\"1\")\n",
    "ax2=fig.add_subplot(111, label=\"2\", frame_on=False)\n",
    "\n",
    "ax.plot(df_target.index,df_target.values.astype(float), color=\"C0\")\n",
    "ax.set_ylabel(\"Price USD\", color=\"C0\")\n",
    "ax.tick_params(axis='x', colors=\"C0\")\n",
    "ax.tick_params(axis='y', colors=\"C0\")\n",
    "\n",
    "\n",
    "ax2.plot(df_full.index ,df_full['redditors_growth'].astype(float) , color=\"C1\")\n",
    "ax2.yaxis.tick_right()\n",
    "ax2.set_ylabel('Reddit growth', color=\"C1\")       \n",
    "ax2.yaxis.set_label_position('right') \n",
    "ax2.tick_params(axis='y', colors=\"C1\")\n",
    "\n",
    "plt.title('r/Bitcoin subscribers growth with BTC Price')\n",
    "plt.show()"
   ]
  },
  {
   "cell_type": "markdown",
   "metadata": {},
   "source": [
    "As we can see, spikes in reddit subscribers are definitely correlated with spikes in Bitcoin price. This is especially evident in 2014, and in the past 6 months especially."
   ]
  },
  {
   "cell_type": "code",
   "execution_count": 82,
   "metadata": {},
   "outputs": [
    {
     "data": {
      "image/png": "[encoded data removed]",
      "text/plain": [
       "<matplotlib.figure.Figure at 0x2a0dd021a58>"
      ]
     },
     "metadata": {},
     "output_type": "display_data"
    }
   ],
   "source": [
    "fig=plt.figure(figsize=(9,5))\n",
    "\n",
    "ax=fig.add_subplot(111, label=\"1\")\n",
    "ax2=fig.add_subplot(111, label=\"2\", frame_on=False)\n",
    "\n",
    "ax.plot(df_target.index,df_target.values.astype(float), color=\"C0\")\n",
    "ax.set_ylabel(\"Price USD\", color=\"C0\")\n",
    "ax.tick_params(axis='x', colors=\"C0\")\n",
    "ax.tick_params(axis='y', colors=\"C0\")\n",
    "\n",
    "\n",
    "ax2.plot(df_full.index ,df_full['BTC Hash Rate'].astype(float) , color=\"C1\")\n",
    "ax2.yaxis.tick_right()\n",
    "ax2.set_ylabel('BTC Hash Rate', color=\"C1\")       \n",
    "ax2.yaxis.set_label_position('right') \n",
    "ax2.tick_params(axis='y', colors=\"C1\")\n",
    "plt.title('BTC Hashrate and BTC Price over time')\n",
    "plt.show()"
   ]
  },
  {
   "cell_type": "markdown",
   "metadata": {},
   "source": [
    "The BTC Hash rate indicates the difficulty of mining Bitcoin. Naturally, as mainstream acceptance further penetrates the Bitcoin market, more and more Bitcoins will be generated making it harder to mine, increasing the Hash rate."
   ]
  },
  {
   "cell_type": "code",
   "execution_count": 83,
   "metadata": {},
   "outputs": [
    {
     "data": {
      "image/png": "[encoded data removed]",
      "text/plain": [
       "<matplotlib.figure.Figure at 0x2a0dba64e48>"
      ]
     },
     "metadata": {},
     "output_type": "display_data"
    }
   ],
   "source": [
    "# Plot number of adresses used vs price\n",
    "fig=plt.figure(figsize=(9,5))\n",
    "\n",
    "ax=fig.add_subplot(111, label=\"1\")\n",
    "ax2=fig.add_subplot(111, label=\"2\", frame_on=False)\n",
    "\n",
    "ax.plot(df_target.index,df_target.values.astype(float), color=\"C0\")\n",
    "ax.set_ylabel(\"Price USD\", color=\"C0\")\n",
    "ax.tick_params(axis='x', colors=\"C0\")\n",
    "ax.tick_params(axis='y', colors=\"C0\")\n",
    "\n",
    "\n",
    "ax2.plot(df_full.index ,df_full['BTC Number of Adresses Used'].astype(float) , color=\"C1\")\n",
    "ax2.yaxis.tick_right()\n",
    "ax2.set_ylabel('BTC Number of Adresses Used', color=\"C1\")       \n",
    "ax2.yaxis.set_label_position('right') \n",
    "ax2.tick_params(axis='y', colors=\"C1\")\n",
    "plt.title('Number of BTC Adresses used and BTC Price over time')\n",
    "plt.show()"
   ]
  },
  {
   "cell_type": "markdown",
   "metadata": {},
   "source": [
    "It is obvious that the growth in users and devices used on the bitcoin network are closely related."
   ]
  },
  {
   "cell_type": "code",
   "execution_count": 84,
   "metadata": {},
   "outputs": [
    {
     "data": {
      "image/png": "[encoded data removed]",
      "text/plain": [
       "<matplotlib.figure.Figure at 0x2a0dd1cba20>"
      ]
     },
     "metadata": {},
     "output_type": "display_data"
    }
   ],
   "source": [
    "# Plot price vs trade volume\n",
    "fig=plt.figure(figsize=(9,5))\n",
    "\n",
    "ax=fig.add_subplot(111, label=\"1\")\n",
    "ax2=fig.add_subplot(111, label=\"2\", frame_on=False)\n",
    "\n",
    "ax.plot(df_target.index,df_target.values.astype(float), color=\"C0\")\n",
    "ax.set_ylabel(\"Price USD\", color=\"C0\")\n",
    "ax.tick_params(axis='x', colors=\"C0\")\n",
    "ax.tick_params(axis='y', colors=\"C0\")\n",
    "\n",
    "\n",
    "ax2.plot(df_full.index ,df_full['BTC USD Trade Volume'].astype(float) , color=\"C1\")\n",
    "ax2.yaxis.tick_right()\n",
    "ax2.set_ylabel('BTC USD Trade Volume', color=\"C1\")       \n",
    "ax2.yaxis.set_label_position('right') \n",
    "ax2.tick_params(axis='y', colors=\"C1\")\n",
    "plt.title('BTC Trade volume and BTC Price over time')\n",
    "plt.show()"
   ]
  },
  {
   "cell_type": "markdown",
   "metadata": {},
   "source": [
    "As we can see, there is a positive relationship between the trade volume in USD for Bitcoin and the price of Bitcoin itself."
   ]
  },
  {
   "cell_type": "markdown",
   "metadata": {},
   "source": [
    "### II - B) Correlaton matrix"
   ]
  },
  {
   "cell_type": "code",
   "execution_count": 85,
   "metadata": {},
   "outputs": [
    {
     "data": {
      "image/png": "[encoded data removed]",
      "text/plain": [
       "<matplotlib.figure.Figure at 0x2a0dd128e48>"
      ]
     },
     "metadata": {},
     "output_type": "display_data"
    }
   ],
   "source": [
    "#plot the correlation matrix\n",
    "f, ax = plt.subplots(figsize=(10, 8))\n",
    "corr = df_full.corr()\n",
    "sns.heatmap(corr, mask=np.zeros_like(corr, dtype=np.bool), cmap=sns.diverging_palette(220, 10, as_cmap=True),\n",
    "            square=True, ax=ax)\n",
    "plt.title('Features correlation matrix')\n",
    "plt.show()"
   ]
  },
  {
   "cell_type": "markdown",
   "metadata": {},
   "source": [
    "#### Note: \n",
    "During our modeling phase, we had planned out to remove the following variables as a means of feature selection - however, our models consistently performed more poorly with this form of feature selection regardless of how many cross validated models with hyperparameter tuning we performed. \n",
    "This can be due to the following reasons: <br>\n",
    "a. These features are important and are correlated due to structure of Bitcoin expanding <br>\n",
    "b. Our most performative models perform feature selection on their own (ridge regression and lasso regressions) and sift through all these features <br>\n",
    "\n",
    "Features initially removed: <br>\n",
    "\n",
    "1. Bitcoin Average Block Size: Average Blockchain size \n",
    "2. Bitcoin cost percentage on transaction volume: Proportion of Cost relative to total transaction volume \n",
    "3. Bitcoin USD trade volume: Total Volume in USD \n",
    "4. Bitcoin Estimated Transaction Volume: Estimated transaction volume \n",
    "5. Bitcoin Total Output Volume: Bitcoin Total Volume \n",
    "6. Bitcoin Transactions/Block: Number of transactions per block \n",
    "7. Bitcoin Non Popular Adresses: Non popular adresses \n",
    "8. Bitcoin Number of Transactions: Number of transactions on the chain \n",
    "9. Bitcoin Market Cap: Bitcoin Market Capitalization \n",
    "10. Bitcoin Mining Operating Margin: Operating margin of all miners \n"
   ]
  },
  {
   "cell_type": "markdown",
   "metadata": {
    "collapsed": true
   },
   "source": [
    "### II - c) Import Dataset "
   ]
  },
  {
   "cell_type": "code",
   "execution_count": 8,
   "metadata": {
    "collapsed": true
   },
   "outputs": [],
   "source": [
    "#after calling the API we then saved it in a dataset in order to avoid calling quandl each time \n",
    "#import dataset\n",
    "df_features = pd.read_csv('df_features.csv', index_col = [0])\n",
    "df_target = pd.read_csv('target.csv', index_col = [0])"
   ]
  },
  {
   "cell_type": "code",
   "execution_count": 9,
   "metadata": {
    "collapsed": true
   },
   "outputs": [],
   "source": [
    "#set dataset\n",
    "df_target.index = pd.to_datetime(df_target.index)\n",
    "df_features.index = pd.to_datetime(df_features.index)"
   ]
  },
  {
   "cell_type": "markdown",
   "metadata": {},
   "source": [
    "## III - Stationarity Study"
   ]
  },
  {
   "cell_type": "markdown",
   "metadata": {},
   "source": [
    "Stationarity constitutes an important part of time series forecasting, a stationary process has the property that the mean, variance and autocorrelation structure do not change over time. In the case of non-stationary processes where statistic properties change over time it becomes very difficult to predict movements in the time series using conventional technics. In this condition, it is always best to study stationary processes or to render the process stationary. \n",
    "Most economic time series are far from stationary even after some seasonality adjustments and obvious pre-processing. So, it has become common to look for long term trends and reverse it using mathematical transformations. Bitcoin price is no exception to this, it even follows an exponential trend, the price has risen 13 times in the course of 2017 and it only took 90 days to go from 4,000 USD to 8,000 USD. We can look at an example of stationarity below<br>\n",
    "\n",
    "![Stationarity](https://upload.wikimedia.org/wikipedia/commons/thumb/e/e1/Stationarycomparison.png/390px-Stationarycomparison.png)\n",
    "\n",
    "A common process to verify if a time series is stationary is to do a unit root test, which means try and find if the time series variable has a unit root, if there are none then the process is stationary else it is not. One of the most well-known and used test is the Augmented Dickey fuller test which tests the correlation between two successive observations in a time series and tries to determine the presence of a unit root in the autoregressive equation."
   ]
  },
  {
   "cell_type": "markdown",
   "metadata": {
    "collapsed": true
   },
   "source": [
    "### III- a) Dickey-fuller test"
   ]
  },
  {
   "cell_type": "code",
   "execution_count": 95,
   "metadata": {
    "collapsed": true
   },
   "outputs": [],
   "source": [
    "#Augmented Dicked Fuller test to check for bitcoin price stationarity\n",
    "\n",
    "from statsmodels.tsa.stattools import adfuller\n",
    "def test_stationarity(timeseries, title):\n",
    "    \n",
    "    #Determing rolling statistics\n",
    "    rolmean = timeseries.rolling(window=12, center=False).mean()\n",
    "    rolstd = timeseries.rolling(window=12, center=False).std()\n",
    "\n",
    "    #Plot rolling statistics:\n",
    "    orig = plt.plot(timeseries, color='blue',label='Original')\n",
    "    mean = plt.plot(rolmean, color='red', label='Rolling Mean')\n",
    "    std = plt.plot(rolstd, color='black', label = 'Rolling Std')\n",
    "    plt.legend(loc='best')\n",
    "    plt.title(title)\n",
    "    plt.show(block=False)\n",
    "    \n",
    "    #Perform Dickey-Fuller test:\n",
    "    print('Results of Dickey-Fuller Test:')\n",
    "    dftest = adfuller(timeseries, autolag='AIC')\n",
    "    dfoutput = pd.Series(dftest[0:4], index=['Test Statistic','p-value','#Lags Used','Number of Observations Used'])\n",
    "    for key,value in dftest[4].items():\n",
    "        dfoutput['Critical Value (%s)'%key] = value\n",
    "    print(dfoutput)"
   ]
  },
  {
   "cell_type": "markdown",
   "metadata": {},
   "source": [
    "### III - a - 1) Is Bitcoin's price a stationary process?\n",
    "\n",
    "We will perform the augmented dickey fuller test on Bitcoin's price to test whethet it's a stationary process or not. "
   ]
  },
  {
   "cell_type": "code",
   "execution_count": 96,
   "metadata": {},
   "outputs": [
    {
     "data": {
      "image/png": "[encoded data removed]",
      "text/plain": [
       "<matplotlib.figure.Figure at 0x2a0dbfeb9e8>"
      ]
     },
     "metadata": {},
     "output_type": "display_data"
    },
    {
     "name": "stdout",
     "output_type": "stream",
     "text": [
      "Results of Dickey-Fuller Test:\n",
      "Test Statistic                    4.407588\n",
      "p-value                           1.000000\n",
      "#Lags Used                       25.000000\n",
      "Number of Observations Used    1840.000000\n",
      "Critical Value (1%)              -3.433909\n",
      "Critical Value (5%)              -2.863112\n",
      "Critical Value (10%)             -2.567607\n",
      "dtype: float64\n"
     ]
    }
   ],
   "source": [
    "test_stationarity(df_target['Value'], 'Dickey-Fuller Test plot for BTC Price timeseries')"
   ]
  },
  {
   "cell_type": "markdown",
   "metadata": {
    "collapsed": true
   },
   "source": [
    "As we can see from the augmented dicky fuller test, the test statistic is over the critical values which confirms that Bitcoin' price time series is not stationary."
   ]
  },
  {
   "cell_type": "markdown",
   "metadata": {},
   "source": [
    "### III - a - 2) Is the price direction a stationary process?\n",
    "\n",
    "Since is this is a bitcoin price direction classification problem - we will perform the augmented dickey fuller test on the price direction o the data. Keep in mind that price direction is whether the data is going up (1 for up) or down (0 for down)"
   ]
  },
  {
   "cell_type": "code",
   "execution_count": 100,
   "metadata": {},
   "outputs": [
    {
     "data": {
      "image/png": "[encoded data removed]",
      "text/plain": [
       "<matplotlib.figure.Figure at 0x2a0dcbca5c0>"
      ]
     },
     "metadata": {},
     "output_type": "display_data"
    },
    {
     "name": "stdout",
     "output_type": "stream",
     "text": [
      "Results of Dickey-Fuller Test:\n",
      "Test Statistic                -8.780066e+00\n",
      "p-value                        2.390000e-14\n",
      "#Lags Used                     1.300000e+01\n",
      "Number of Observations Used    1.845000e+03\n",
      "Critical Value (1%)           -3.433899e+00\n",
      "Critical Value (5%)           -2.863108e+00\n",
      "Critical Value (10%)          -2.567605e+00\n",
      "dtype: float64\n"
     ]
    }
   ],
   "source": [
    "#test stationnarity of the 1,0 TS with a Dick-Fuller test\n",
    "test_stationarity(df_target['Mkt_State'], 'Dickey-Fuller Test plot for the transformed BTC Price timeseries')"
   ]
  },
  {
   "cell_type": "markdown",
   "metadata": {
    "collapsed": true
   },
   "source": [
    "Test statitistic under the 1% critical value. The differenced time series is sure to be stationary. Thus, we can perform our prediction modelling on this data! "
   ]
  },
  {
   "cell_type": "markdown",
   "metadata": {
    "collapsed": true
   },
   "source": [
    "### III - b) Trend and seasonality analysis of the price times series\n",
    "Part of any time series forecasting is understanding the impact of trend and seasonality in the foreasting endeavor. As adjusting for trend and seasionality makes our prediction models better understand the data generation process. "
   ]
  },
  {
   "cell_type": "code",
   "execution_count": 108,
   "metadata": {},
   "outputs": [
    {
     "data": {
      "image/png": "[encoded data removed]",
      "text/plain": [
       "<matplotlib.figure.Figure at 0x2a0dd420a90>"
      ]
     },
     "metadata": {},
     "output_type": "display_data"
    }
   ],
   "source": [
    "#Trend, seasonality and residual analysis\n",
    "from statsmodels.tsa.seasonal import seasonal_decompose\n",
    "decomposition = seasonal_decompose(df_target['Price'])\n",
    "fig1 = plt.figure(figsize = (15,7))\n",
    "trend = decomposition.trend\n",
    "seasonal = decomposition.seasonal\n",
    "residual = decomposition.resid\n",
    "plt.subplot(411)\n",
    "plt.title('Trend and Seasonality and Residuals plot of the BTC Price timeseries')\n",
    "plt.plot(df_target['Price'] , label='Original')\n",
    "plt.legend(loc='best')\n",
    "plt.subplot(412)\n",
    "plt.plot(trend, label='Trend')\n",
    "plt.legend(loc='best')\n",
    "plt.subplot(413)\n",
    "plt.plot(seasonal,label='Seasonality')\n",
    "plt.legend(loc='best')\n",
    "plt.subplot(414)\n",
    "plt.plot(residual, label='Residuals')\n",
    "plt.legend(loc='best')\n",
    "plt.tight_layout()\n",
    "plt.show()"
   ]
  },
  {
   "cell_type": "markdown",
   "metadata": {},
   "source": [
    "### Make the features stationary to avoid spurious regression problems"
   ]
  },
  {
   "cell_type": "code",
   "execution_count": 10,
   "metadata": {
    "collapsed": true
   },
   "outputs": [],
   "source": [
    "#make the features stationary as well !\n",
    "for i in df_features.columns:\n",
    "    stationaring(df_features, str(i))"
   ]
  },
  {
   "cell_type": "markdown",
   "metadata": {
    "collapsed": true
   },
   "source": [
    "## V) Setting our parameters"
   ]
  },
  {
   "cell_type": "markdown",
   "metadata": {
    "collapsed": true
   },
   "source": [
    "### V - a) Training & Testing sets parameters"
   ]
  },
  {
   "cell_type": "code",
   "execution_count": 11,
   "metadata": {
    "collapsed": true
   },
   "outputs": [],
   "source": [
    "#choose target value for the target vector\n",
    "df_target = df_target['Mkt_State']"
   ]
  },
  {
   "cell_type": "code",
   "execution_count": 12,
   "metadata": {
    "collapsed": true
   },
   "outputs": [],
   "source": [
    "#define horizon of the test set in days\n",
    "horizon = 10\n",
    "#define depth of the traning set in days\n",
    "depth = horizon + 300"
   ]
  },
  {
   "cell_type": "code",
   "execution_count": 13,
   "metadata": {},
   "outputs": [
    {
     "name": "stdout",
     "output_type": "stream",
     "text": [
      "delta removed: 7\n"
     ]
    }
   ],
   "source": [
    "#get the same index for target and features\n",
    "target = set_index(df_features, df_target)"
   ]
  },
  {
   "cell_type": "code",
   "execution_count": 14,
   "metadata": {},
   "outputs": [
    {
     "name": "stdout",
     "output_type": "stream",
     "text": [
      "Training set: 2017-01-19 00:00:00 to 2017-11-14 00:00:00 ; Days:300\n",
      " Testing set: 2017-11-15 00:00:00 to 2017-11-24 00:00:00 ; Days:10\n"
     ]
    }
   ],
   "source": [
    "#set the working vectors\n",
    "X_train, y_train, X_test, y_test = split_train_test(df_features, target,depth, horizon)"
   ]
  },
  {
   "cell_type": "markdown",
   "metadata": {
    "collapsed": true
   },
   "source": [
    "### V - b) Cross Validation settings"
   ]
  },
  {
   "cell_type": "markdown",
   "metadata": {
    "collapsed": true
   },
   "source": [
    "Our time series cross validation technique consisted of a rolling basis cross validation. We used a three hundred day training set with a 20 day cross validation window, with final scores being predicted on a 10 day test set*(the choice of training set was due to the structural changes Bitcoin has endured in the past year, whereas the choice of test set was shrunk in order to control for accuracy in a time series forecast.)*  \n",
    "In this procedure, the training set consists of observations that occured prior to the cross validation set, the cross validation accuracy is computed by averaging over all forecasts, and then the final prediction accuracy is computer on the test set. An illustration of this technique can be found below\n",
    "![Cross Validation](cv1-1.png)"
   ]
  },
  {
   "cell_type": "code",
   "execution_count": 15,
   "metadata": {
    "collapsed": true
   },
   "outputs": [],
   "source": [
    "## Cross validation hyperparameters\n",
    "#define the CV set horizon\n",
    "horizon_cv = 20\n",
    "#define the CV_training set depth\n",
    "depth_cv = len(X_train)\n",
    "#define number of features to combine (used for some models)\n",
    "features = features_combin(15)\n",
    "# feature combination : #/!\\ HAS TO BE SET ON 0 if the model takes all the features\n",
    "c = 0"
   ]
  },
  {
   "cell_type": "code",
   "execution_count": 16,
   "metadata": {},
   "outputs": [
    {
     "name": "stdout",
     "output_type": "stream",
     "text": [
      "Training set: 2017-01-19 00:00:00 to 2017-10-25 00:00:00 ; Days:280\n",
      " Testing set: 2017-10-26 00:00:00 to 2017-11-14 00:00:00 ; Days:20\n"
     ]
    }
   ],
   "source": [
    "#X_cv_train, y_cv_train, X_cv_test, y_cv_test = #set the working vectors\n",
    "X_cv_train, y_cv_train, X_cv_test, y_cv_test = split_train_test(X_train, y_train,depth_cv, horizon_cv)"
   ]
  },
  {
   "cell_type": "code",
   "execution_count": 17,
   "metadata": {},
   "outputs": [
    {
     "name": "stdout",
     "output_type": "stream",
     "text": [
      "CV Null model score: 0.6\n"
     ]
    }
   ],
   "source": [
    "### check the score of the null model\n",
    "print('CV Null model score:', y_cv_test.mean())"
   ]
  },
  {
   "cell_type": "markdown",
   "metadata": {},
   "source": [
    "## VI - Prediction modeling"
   ]
  },
  {
   "cell_type": "markdown",
   "metadata": {
    "collapsed": true
   },
   "source": [
    "### VI - a) Logistic Regression"
   ]
  },
  {
   "cell_type": "markdown",
   "metadata": {
    "collapsed": true
   },
   "source": [
    "#### VI - a - 1) Lasso Logistic Regresion"
   ]
  },
  {
   "cell_type": "markdown",
   "metadata": {
    "collapsed": true
   },
   "source": [
    "##### Cross Validation"
   ]
  },
  {
   "cell_type": "markdown",
   "metadata": {
    "collapsed": true
   },
   "source": [
    "Since it is difficult to perform cross validated grid search on time series data, we developed a custom grid search function that works well for lasso and ridge logitsic regressions. It performs a one step ahead prediction based on the rolling cross validation function we discussed earlier \n",
    "The parameters to tune for the logistic regression are: \n",
    " - C (inverse of regularization strength)\n",
    " - Weights attributed to different classes (0 or 1) <br>\n",
    " \n",
    "It is worth noticing that there is no need to do features selection since the L1 & L2 regularization will set some coefficients \n",
    "to 0 by itself. "
   ]
  },
  {
   "cell_type": "code",
   "execution_count": 18,
   "metadata": {
    "collapsed": true
   },
   "outputs": [],
   "source": [
    "#initialize a dictionnary in order to store the score of the differents parameters\n",
    "scores = {}\n",
    "\n",
    "#loop over the different parameters possiblities\n",
    "for i in range(1,11,1):\n",
    "    for j in range(1,11,1):\n",
    "        for k in range(1,11,1):\n",
    "            \n",
    "            #store the hyperparameters combination\n",
    "            triple = str([i,j,k])\n",
    "\n",
    "            #call the logistic regression\n",
    "            log_l1 = LogisticRegression(penalty='l1', \n",
    "                                     C=i/10, \n",
    "                                     class_weight = {0: j/10, 1: k/10}, \n",
    "                                     random_state=0, \n",
    "                                     solver='saga', \n",
    "                                     max_iter=500, \n",
    "                                     verbose=0)\n",
    "            \n",
    "            #call the rolling prediction function on the CV set\n",
    "            y_predict = rolling_prediction(log_l1, X_cv_train, y_cv_train, X_cv_test, y_cv_test, verbose = 0)\n",
    "            \n",
    "            #compute the score on the cv\n",
    "            score = accuracy_score(y_cv_test.values, y_predict)\n",
    "            \n",
    "            #store the score as the values of the triple key\n",
    "            scores[triple] = score\n",
    "            \n",
    "            #print(triple, score)\n",
    "            \n",
    " #sort dictionnary by occurence order to find the best scores\n",
    "scores_sort = sorted(scores.items(), key=lambda x: x[1], reverse=True)"
   ]
  },
  {
   "cell_type": "code",
   "execution_count": 237,
   "metadata": {
    "collapsed": true
   },
   "outputs": [],
   "source": [
    "#initialize a dictionnary in order to store the score of the differents parameters\n",
    "scores = {}\n",
    "\n",
    "#loop over the different parameters possiblities\n",
    "for i in range(1,11,1):\n",
    "    for j in range(1,11,1):\n",
    "        for k in range(1,11,1):\n",
    "            \n",
    "            #store the hyperparameters combination\n",
    "            triple = str([i,j,k])\n",
    "\n",
    "            #call the logistic regression\n",
    "            log_l1 = LogisticRegression(penalty='l1', \n",
    "                                     C=i/10, \n",
    "                                     class_weight = {0: j/10, 1: k/10}, \n",
    "                                     random_state=0, \n",
    "                                     solver='saga', \n",
    "                                     max_iter=500, \n",
    "                                     verbose=0)\n",
    "            \n",
    "            #call the rolling prediction function on the CV set\n",
    "            y_predict = rolling_prediction(log_l1, X_cv_train, y_cv_train, X_cv_test, y_cv_test, verbose = 0)\n",
    "            \n",
    "            #compute the score on the cv\n",
    "            score = accuracy_score(y_cv_test.values, y_predict)\n",
    "            \n",
    "            #store the score as the values of the triple key\n",
    "            scores[triple] = score\n",
    "            \n",
    "            #print(triple, score)\n",
    "            \n",
    " #sort dictionnary by occurence order to find the best scores\n",
    "scores_sort = sorted(scores.items(), key=lambda x: x[1], reverse=True)"
   ]
  },
  {
   "cell_type": "code",
   "execution_count": 19,
   "metadata": {},
   "outputs": [
    {
     "name": "stdout",
     "output_type": "stream",
     "text": [
      "('[4, 10, 6]', 0.69999999999999996)\n"
     ]
    }
   ],
   "source": [
    "#print best model with its score on the CV set, the L1-logistic\n",
    "print(scores_sort[0])"
   ]
  },
  {
   "cell_type": "code",
   "execution_count": 20,
   "metadata": {},
   "outputs": [
    {
     "data": {
      "text/plain": [
       "[('[4, 10, 6]', 0.69999999999999996),\n",
       " ('[7, 5, 3]', 0.69999999999999996),\n",
       " ('[8, 5, 3]', 0.69999999999999996),\n",
       " ('[3, 8, 5]', 0.65000000000000002),\n",
       " ('[3, 10, 6]', 0.65000000000000002),\n",
       " ('[4, 5, 3]', 0.65000000000000002),\n",
       " ('[4, 9, 6]', 0.65000000000000002),\n",
       " ('[5, 5, 3]', 0.65000000000000002)]"
      ]
     },
     "execution_count": 20,
     "metadata": {},
     "output_type": "execute_result"
    }
   ],
   "source": [
    "#print the top best scores on the CV model\n",
    "scores_sort[:8]"
   ]
  },
  {
   "cell_type": "markdown",
   "metadata": {
    "collapsed": true
   },
   "source": [
    "There are some hyperparameters combinations which overperforms the null model (7 in total !). \n",
    "Let's try them now on the test set !"
   ]
  },
  {
   "cell_type": "markdown",
   "metadata": {
    "collapsed": true
   },
   "source": [
    "##### Test of the best Cross-Validated model"
   ]
  },
  {
   "cell_type": "code",
   "execution_count": 113,
   "metadata": {
    "collapsed": true
   },
   "outputs": [],
   "source": [
    "#call the models with the best 3-hyperparameters:\n",
    "log_l1 = LogisticRegression(penalty='l1', \n",
    "                                     C=0.9, \n",
    "                                     class_weight = {0: 1, 1: 0.6}, \n",
    "                                     random_state=0, \n",
    "                                     solver='saga', \n",
    "                                     max_iter=500, \n",
    "                                     verbose=0)"
   ]
  },
  {
   "cell_type": "code",
   "execution_count": 114,
   "metadata": {},
   "outputs": [
    {
     "name": "stdout",
     "output_type": "stream",
     "text": [
      "Prediction n°: 1 ; test_value: [1]\n",
      "value predicted: [1] ; accurate: [ True]\n",
      "--------------------------------------------------------------------------------\n",
      "Prediction n°: 2 ; test_value: [1]\n",
      "value predicted: [1] ; accurate: [ True]\n",
      "--------------------------------------------------------------------------------\n",
      "Prediction n°: 3 ; test_value: [0]\n",
      "value predicted: [0] ; accurate: [ True]\n",
      "--------------------------------------------------------------------------------\n",
      "Prediction n°: 4 ; test_value: [1]\n",
      "value predicted: [0] ; accurate: [False]\n",
      "--------------------------------------------------------------------------------\n",
      "Prediction n°: 5 ; test_value: [1]\n",
      "value predicted: [0] ; accurate: [False]\n",
      "--------------------------------------------------------------------------------\n",
      "Prediction n°: 6 ; test_value: [1]\n",
      "value predicted: [1] ; accurate: [ True]\n",
      "--------------------------------------------------------------------------------\n",
      "Prediction n°: 7 ; test_value: [0]\n",
      "value predicted: [0] ; accurate: [ True]\n",
      "--------------------------------------------------------------------------------\n",
      "Prediction n°: 8 ; test_value: [1]\n",
      "value predicted: [1] ; accurate: [ True]\n",
      "--------------------------------------------------------------------------------\n",
      "Prediction n°: 9 ; test_value: [0]\n",
      "value predicted: [0] ; accurate: [ True]\n",
      "--------------------------------------------------------------------------------\n",
      "Prediction n°: 10 ; test_value: [1]\n",
      "value predicted: [1] ; accurate: [ True]\n",
      "--------------------------------------------------------------------------------\n"
     ]
    }
   ],
   "source": [
    "#test the model on the final test set\n",
    "y_predict = rolling_prediction(log_l1, X_train, y_train, X_test, y_test, verbose = 1)"
   ]
  },
  {
   "cell_type": "markdown",
   "metadata": {},
   "source": [
    "##### Classification report for Rolling L1 :"
   ]
  },
  {
   "cell_type": "code",
   "execution_count": 115,
   "metadata": {},
   "outputs": [
    {
     "name": "stdout",
     "output_type": "stream",
     "text": [
      "             precision    recall  f1-score   support\n",
      "\n",
      "    class 0       0.60      1.00      0.75         3\n",
      "    class 1       1.00      0.71      0.83         7\n",
      "\n",
      "avg / total       0.88      0.80      0.81        10\n",
      "\n"
     ]
    }
   ],
   "source": [
    "#Classification report for the non CV L1 score\n",
    "target_names = ['class 0', 'class 1']\n",
    "print(classification_report(y_test.values, y_predict, target_names=target_names))"
   ]
  },
  {
   "cell_type": "code",
   "execution_count": 116,
   "metadata": {},
   "outputs": [
    {
     "name": "stdout",
     "output_type": "stream",
     "text": [
      "L1 best CV Logistic Regression score:  0.8\n"
     ]
    }
   ],
   "source": [
    "#print the score of the last rolling prediction\n",
    "score = accuracy_score(y_test.values, y_predict)\n",
    "print('L1 best CV Logistic Regression score: ', score)"
   ]
  },
  {
   "cell_type": "markdown",
   "metadata": {},
   "source": [
    "This L1 Logistic Regression (C=0.9, 0_weights = 1, 1_weight = 0.6) scores an impressive 0.8 on the test set, which is way better than the null model (which would have consisted in predicting always 1 on the 10 days test) ! "
   ]
  },
  {
   "cell_type": "markdown",
   "metadata": {
    "collapsed": true
   },
   "source": [
    "#### VI - a - 2) Ridge Logistic Regresion"
   ]
  },
  {
   "cell_type": "markdown",
   "metadata": {
    "collapsed": true
   },
   "source": [
    "##### Cross Validation\n",
    "The Ridge Logistic Regression overperforms the null model on the CV set with a score of 0.65. \n",
    "However, it converges to the null model on the test set with a score of 0.7. "
   ]
  },
  {
   "cell_type": "code",
   "execution_count": 27,
   "metadata": {
    "collapsed": true
   },
   "outputs": [],
   "source": [
    "#initialize a dictionnary in order to store the score of the differents parameters\n",
    "scores = {}\n",
    "\n",
    "#loop over the different parameters possiblities\n",
    "\n",
    "for j in range(1000):\n",
    "    for i in range(1,11,1):\n",
    "        \n",
    "        c = j\n",
    "\n",
    "        #store the hyperparameters combination\n",
    "        duble = str([i,j])\n",
    "\n",
    "        #call the logistic regression\n",
    "        log_l2 = LogisticRegression(penalty='l2', \n",
    "                                 C=i/10, \n",
    "                                 random_state=0, \n",
    "                                 solver='liblinear', \n",
    "                                 max_iter=400, \n",
    "                                 verbose=0)\n",
    "\n",
    "        #call the rolling prediction function on the CV set\n",
    "        y_predict = rolling_prediction(log_l2, X_cv_train, y_cv_train, X_cv_test, y_cv_test, verbose = 0)\n",
    "\n",
    "        #compute the score on the cv\n",
    "        score = accuracy_score(y_cv_test.values, y_predict)\n",
    "\n",
    "        #store the score as the values of the triple key\n",
    "        scores[duble] = score\n",
    "\n",
    " #sort dictionnary by occurence order to find the best scores\n",
    "scores_sort = sorted(scores.items(), key=lambda x: x[1], reverse=True)"
   ]
  },
  {
   "cell_type": "code",
   "execution_count": 28,
   "metadata": {},
   "outputs": [
    {
     "name": "stdout",
     "output_type": "stream",
     "text": [
      "('[4, 18]', 0.65000000000000002)\n"
     ]
    }
   ],
   "source": [
    "print(scores_sort[0])"
   ]
  },
  {
   "cell_type": "markdown",
   "metadata": {
    "collapsed": true
   },
   "source": [
    "##### Test of the best Cross-Validated model"
   ]
  },
  {
   "cell_type": "code",
   "execution_count": 29,
   "metadata": {
    "collapsed": true
   },
   "outputs": [],
   "source": [
    "#define number of features to combine \n",
    "features = features_combin(14)\n",
    "# feature combination :\n",
    "c = 18\n",
    "\n",
    "#call the model with the best 3-hyperparameters:\n",
    "log_l2 = LogisticRegression(penalty='l2', \n",
    "                         C=0.4, \n",
    "                         random_state=0, \n",
    "                         solver='liblinear', \n",
    "                         max_iter=300, \n",
    "                         verbose=0)"
   ]
  },
  {
   "cell_type": "code",
   "execution_count": 30,
   "metadata": {},
   "outputs": [
    {
     "name": "stdout",
     "output_type": "stream",
     "text": [
      "Prediction n°: 1 ; test_value: [1]\n",
      "value predicted: [1] ; accurate: [ True]\n",
      "--------------------------------------------------------------------------------\n",
      "Prediction n°: 2 ; test_value: [1]\n",
      "value predicted: [1] ; accurate: [ True]\n",
      "--------------------------------------------------------------------------------\n",
      "Prediction n°: 3 ; test_value: [0]\n",
      "value predicted: [1] ; accurate: [False]\n",
      "--------------------------------------------------------------------------------\n",
      "Prediction n°: 4 ; test_value: [1]\n",
      "value predicted: [1] ; accurate: [ True]\n",
      "--------------------------------------------------------------------------------\n",
      "Prediction n°: 5 ; test_value: [1]\n",
      "value predicted: [1] ; accurate: [ True]\n",
      "--------------------------------------------------------------------------------\n",
      "Prediction n°: 6 ; test_value: [1]\n",
      "value predicted: [1] ; accurate: [ True]\n",
      "--------------------------------------------------------------------------------\n",
      "Prediction n°: 7 ; test_value: [0]\n",
      "value predicted: [1] ; accurate: [False]\n",
      "--------------------------------------------------------------------------------\n",
      "Prediction n°: 8 ; test_value: [1]\n",
      "value predicted: [1] ; accurate: [ True]\n",
      "--------------------------------------------------------------------------------\n",
      "Prediction n°: 9 ; test_value: [0]\n",
      "value predicted: [1] ; accurate: [False]\n",
      "--------------------------------------------------------------------------------\n",
      "Prediction n°: 10 ; test_value: [1]\n",
      "value predicted: [1] ; accurate: [ True]\n",
      "--------------------------------------------------------------------------------\n"
     ]
    }
   ],
   "source": [
    "#test the model on the final test set\n",
    "y_predict = rolling_prediction(log_l2, X_train, y_train, X_test, y_test, verbose = 1)"
   ]
  },
  {
   "cell_type": "code",
   "execution_count": 31,
   "metadata": {},
   "outputs": [
    {
     "name": "stdout",
     "output_type": "stream",
     "text": [
      "             precision    recall  f1-score   support\n",
      "\n",
      "    class 0       0.00      0.00      0.00         3\n",
      "    class 1       0.70      1.00      0.82         7\n",
      "\n",
      "avg / total       0.49      0.70      0.58        10\n",
      "\n"
     ]
    }
   ],
   "source": [
    "#Classification report for the best CV random forest\n",
    "target_names = ['class 0', 'class 1']\n",
    "print(classification_report(y_test.values, y_predict, target_names=target_names))"
   ]
  },
  {
   "cell_type": "markdown",
   "metadata": {
    "collapsed": true
   },
   "source": [
    "Excalty the same conclusions as the L1-Logistic"
   ]
  },
  {
   "cell_type": "markdown",
   "metadata": {
    "collapsed": true
   },
   "source": [
    "### VI - b) Random Forest"
   ]
  },
  {
   "cell_type": "markdown",
   "metadata": {
    "collapsed": true
   },
   "source": [
    "We implemented here a Rolling Random Forest. We only played on the 'max_features' hyperparameters and noticed a Cross Validation \n",
    "score much better when it was equal to 8. The CV set is slightly hiher than the score of the null model (0.65).\n",
    "However, like the Ridge Regression, the model tends to converge to the null model on the test score by predicting always 1."
   ]
  },
  {
   "cell_type": "markdown",
   "metadata": {
    "collapsed": true
   },
   "source": [
    "### Cross Validation"
   ]
  },
  {
   "cell_type": "code",
   "execution_count": 245,
   "metadata": {
    "collapsed": true
   },
   "outputs": [],
   "source": [
    "## Cross validation hyperparameters\n",
    "#define the CV set horizon\n",
    "horizon = 10\n",
    "#define the CV_training set depth\n",
    "depth = 300 + horizon\n",
    "#define number of features to combine (used for some models)\n",
    "features = features_combin(21)\n",
    "#feature combination\n",
    "c = 0"
   ]
  },
  {
   "cell_type": "code",
   "execution_count": 246,
   "metadata": {},
   "outputs": [
    {
     "name": "stdout",
     "output_type": "stream",
     "text": [
      "Training set: 2017-01-19 00:00:00 to 2017-11-14 00:00:00 ; Days:300\n",
      " Testing set: 2017-11-15 00:00:00 to 2017-11-24 00:00:00 ; Days:10\n"
     ]
    }
   ],
   "source": [
    "#set the working vectors for CV\n",
    "X_train, y_train, X_test, y_test = split_train_test(df_features, target,depth, horizon)"
   ]
  },
  {
   "cell_type": "code",
   "execution_count": 241,
   "metadata": {
    "collapsed": true
   },
   "outputs": [],
   "source": [
    "## Cross validation hyperparameters\n",
    "#define the CV set horizon\n",
    "horizon = 20\n",
    "#define the CV_training set depth\n",
    "depth = 300\n",
    "#define number of features to combine (used for some models)\n",
    "features = features_combin(21)\n",
    "#feature combination\n",
    "c = 0"
   ]
  },
  {
   "cell_type": "code",
   "execution_count": 242,
   "metadata": {
    "collapsed": true,
    "scrolled": true
   },
   "outputs": [],
   "source": [
    "#initialize a dictionnary in order to store the score of the differents parameters\n",
    "scores = {}\n",
    "\n",
    "for i in range(8, 14):\n",
    "    \n",
    "    #set the working vectors\n",
    "    X_train, y_train, X_test, y_test = split_train_test(df_features, target,depth, horizon, verbose = False)\n",
    "       \n",
    "    #set the working vectors for CV\n",
    "    X_cv_train, y_cv_train, X_cv_test, y_cv_test = split_train_test(X_train,y_train,depth_cv, horizon_cv, verbose = False)\n",
    "    \n",
    "    #call the l2-logistic regression\n",
    "    Rf = RandomForestClassifier(n_estimators=100, \n",
    "                           criterion=\"entropy\", \n",
    "                           max_depth=5,\n",
    "                           max_features=i, \n",
    "                           min_samples_split=4, \n",
    "                           max_leaf_nodes = 10,\n",
    "                           random_state=0)\n",
    "    \n",
    "    #set the test and training set to the right features\n",
    "    y_predict = rolling_prediction(Rf, X_train, y_train, X_test, y_test, verbose = 0)\n",
    "\n",
    "    #compute the score on the cv\n",
    "    score = accuracy_score(y_cv_test.values, y_predict)\n",
    "\n",
    "    #store the score as the values of the triple key\n",
    "    scores[i] = score\n",
    "\n",
    "    #print(triple, score)\n",
    "            \n",
    " #sort dictionnary by occurence order to find the best scores\n",
    "scores_sort = sorted(scores.items(), key=lambda x: x[1], reverse=True)"
   ]
  },
  {
   "cell_type": "code",
   "execution_count": 243,
   "metadata": {},
   "outputs": [
    {
     "name": "stdout",
     "output_type": "stream",
     "text": [
      "(8, 0.65000000000000002)\n"
     ]
    }
   ],
   "source": [
    "print(scores_sort[0])"
   ]
  },
  {
   "cell_type": "markdown",
   "metadata": {
    "collapsed": true
   },
   "source": [
    "#### Test of the best CV Random Forest models"
   ]
  },
  {
   "cell_type": "code",
   "execution_count": 247,
   "metadata": {},
   "outputs": [
    {
     "name": "stdout",
     "output_type": "stream",
     "text": [
      "Training set: 2017-01-19 00:00:00 to 2017-11-14 00:00:00 ; Days:300\n",
      " Testing set: 2017-11-15 00:00:00 to 2017-11-24 00:00:00 ; Days:10\n",
      "Prediction n°: 1 ; test_value: [1]\n",
      "value predicted: [1] ; accurate: [ True]\n",
      "--------------------------------------------------------------------------------\n",
      "Prediction n°: 2 ; test_value: [1]\n",
      "value predicted: [1] ; accurate: [ True]\n",
      "--------------------------------------------------------------------------------\n",
      "Prediction n°: 3 ; test_value: [0]\n",
      "value predicted: [1] ; accurate: [False]\n",
      "--------------------------------------------------------------------------------\n",
      "Prediction n°: 4 ; test_value: [1]\n",
      "value predicted: [1] ; accurate: [ True]\n",
      "--------------------------------------------------------------------------------\n",
      "Prediction n°: 5 ; test_value: [1]\n",
      "value predicted: [1] ; accurate: [ True]\n",
      "--------------------------------------------------------------------------------\n",
      "Prediction n°: 6 ; test_value: [1]\n",
      "value predicted: [1] ; accurate: [ True]\n",
      "--------------------------------------------------------------------------------\n",
      "Prediction n°: 7 ; test_value: [0]\n",
      "value predicted: [1] ; accurate: [False]\n",
      "--------------------------------------------------------------------------------\n",
      "Prediction n°: 8 ; test_value: [1]\n",
      "value predicted: [1] ; accurate: [ True]\n",
      "--------------------------------------------------------------------------------\n",
      "Prediction n°: 9 ; test_value: [0]\n",
      "value predicted: [1] ; accurate: [False]\n",
      "--------------------------------------------------------------------------------\n",
      "Prediction n°: 10 ; test_value: [1]\n",
      "value predicted: [1] ; accurate: [ True]\n",
      "--------------------------------------------------------------------------------\n"
     ]
    }
   ],
   "source": [
    "#set the working vectors\n",
    "X_train, y_train, X_test, y_test = split_train_test(df_features, target,depth, horizon, verbose = True)\n",
    "\n",
    "#call the l2-logistic regression\n",
    "Rf = RandomForestClassifier(n_estimators=100, \n",
    "                       criterion=\"entropy\", \n",
    "                       max_depth=5,\n",
    "                       max_features=8, \n",
    "                       min_samples_split=8, \n",
    "                       max_leaf_nodes = 10,\n",
    "                       random_state=0)\n",
    "\n",
    "#set the test and training set to the right features\n",
    "y_predict = rolling_prediction(Rf, X_train, y_train, X_test, y_test, verbose = 1)\n",
    "\n",
    "#compute the score on the cv\n",
    "score = accuracy_score(y_test.values, y_predict)"
   ]
  },
  {
   "cell_type": "markdown",
   "metadata": {},
   "source": [
    "#### Classification report for the best CV random forest"
   ]
  },
  {
   "cell_type": "code",
   "execution_count": 248,
   "metadata": {},
   "outputs": [
    {
     "name": "stdout",
     "output_type": "stream",
     "text": [
      "             precision    recall  f1-score   support\n",
      "\n",
      "    class 0       0.00      0.00      0.00         3\n",
      "    class 1       0.70      1.00      0.82         7\n",
      "\n",
      "avg / total       0.49      0.70      0.58        10\n",
      "\n"
     ]
    }
   ],
   "source": [
    "#Classification report for the best CV random forest\n",
    "target_names = ['class 0', 'class 1']\n",
    "print(classification_report(y_test.values, y_predict, target_names=target_names))"
   ]
  },
  {
   "cell_type": "code",
   "execution_count": 144,
   "metadata": {},
   "outputs": [
    {
     "name": "stdout",
     "output_type": "stream",
     "text": [
      "Best CV Random Forest Model test score:  0.7\n"
     ]
    }
   ],
   "source": [
    "#print the test score of the best CV Randome Forest\n",
    "print('Best CV Random Forest Model test score: ', score)"
   ]
  },
  {
   "cell_type": "markdown",
   "metadata": {
    "collapsed": true
   },
   "source": [
    "### VI - c) LSTM"
   ]
  },
  {
   "cell_type": "code",
   "execution_count": null,
   "metadata": {
    "collapsed": true
   },
   "outputs": [],
   "source": [
    "Unfortunately, we were not able to have good results with the LSTM since the test score we manage to achieve is 0.4"
   ]
  },
  {
   "cell_type": "code",
   "execution_count": 145,
   "metadata": {
    "collapsed": true
   },
   "outputs": [],
   "source": [
    "#Dataset parameters\n",
    "#define the CV set horizon\n",
    "horizon = 10\n",
    "#define the CV_training set depth\n",
    "depth = 500"
   ]
  },
  {
   "cell_type": "code",
   "execution_count": 146,
   "metadata": {},
   "outputs": [
    {
     "name": "stdout",
     "output_type": "stream",
     "text": [
      "Training set: 2016-07-13 00:00:00 to 2017-11-14 00:00:00 ; Days:490\n",
      " Testing set: 2017-11-15 00:00:00 to 2017-11-24 00:00:00 ; Days:10\n"
     ]
    }
   ],
   "source": [
    "#set the working vectors\n",
    "X_train, y_train, X_test, y_test = split_train_test(df_features,target,depth, horizon, verbose = True)"
   ]
  },
  {
   "cell_type": "code",
   "execution_count": 147,
   "metadata": {
    "collapsed": true
   },
   "outputs": [],
   "source": [
    "# How to reshape data for LSTM\n",
    "training = X_train.values.reshape((X_train.shape[0],1, X_train.shape[1]))\n",
    "testing = X_test.values.reshape((X_test.shape[0],1, X_test.shape[1]))"
   ]
  },
  {
   "cell_type": "code",
   "execution_count": 148,
   "metadata": {
    "collapsed": true
   },
   "outputs": [],
   "source": [
    "# How to LSTM?\n",
    "n_features = X_train.shape[1]\n",
    "n_samples  = X_train.shape[0]\n",
    "timesteps = 1\n",
    "model = Sequential()\n",
    "model.add(LSTM(n_samples, input_shape = (timesteps,n_features)))\n",
    "model.add(Dense(1))\n",
    "model.add(Activation('sigmoid'))"
   ]
  },
  {
   "cell_type": "code",
   "execution_count": 149,
   "metadata": {
    "collapsed": true
   },
   "outputs": [],
   "source": [
    "model.compile(optimizer = 'adam', loss = \"binary_crossentropy\", metrics = [\"accuracy\"])"
   ]
  },
  {
   "cell_type": "code",
   "execution_count": 150,
   "metadata": {},
   "outputs": [
    {
     "name": "stdout",
     "output_type": "stream",
     "text": [
      "Epoch 1/500\n",
      " - 2s - loss: 0.6954 - acc: 0.4429\n",
      "Epoch 2/500\n",
      " - 0s - loss: 0.6859 - acc: 0.5939\n",
      "Epoch 3/500\n",
      " - 0s - loss: 0.6788 - acc: 0.6020\n",
      "Epoch 4/500\n",
      " - 0s - loss: 0.6740 - acc: 0.6020\n",
      "Epoch 5/500\n",
      " - 0s - loss: 0.6714 - acc: 0.6020\n",
      "Epoch 6/500\n",
      " - 0s - loss: 0.6707 - acc: 0.6020\n",
      "Epoch 7/500\n",
      " - 0s - loss: 0.6713 - acc: 0.6020\n",
      "Epoch 8/500\n",
      " - 0s - loss: 0.6723 - acc: 0.6020\n",
      "Epoch 9/500\n",
      " - 0s - loss: 0.6732 - acc: 0.6020\n",
      "Epoch 10/500\n",
      " - 0s - loss: 0.6736 - acc: 0.6020\n",
      "Epoch 11/500\n",
      " - 0s - loss: 0.6733 - acc: 0.6020\n",
      "Epoch 12/500\n",
      " - 0s - loss: 0.6726 - acc: 0.6020\n",
      "Epoch 13/500\n",
      " - 0s - loss: 0.6716 - acc: 0.6020\n",
      "Epoch 14/500\n",
      " - 0s - loss: 0.6705 - acc: 0.6020\n",
      "Epoch 15/500\n",
      " - 0s - loss: 0.6695 - acc: 0.6020\n",
      "Epoch 16/500\n",
      " - 0s - loss: 0.6687 - acc: 0.6020\n",
      "Epoch 17/500\n",
      " - 0s - loss: 0.6682 - acc: 0.6020\n",
      "Epoch 18/500\n",
      " - 0s - loss: 0.6679 - acc: 0.6020\n",
      "Epoch 19/500\n",
      " - 0s - loss: 0.6677 - acc: 0.6020\n",
      "Epoch 20/500\n",
      " - 0s - loss: 0.6677 - acc: 0.6020\n",
      "Epoch 21/500\n",
      " - 0s - loss: 0.6677 - acc: 0.6020\n",
      "Epoch 22/500\n",
      " - 0s - loss: 0.6677 - acc: 0.6020\n",
      "Epoch 23/500\n",
      " - 0s - loss: 0.6675 - acc: 0.6020\n",
      "Epoch 24/500\n",
      " - 0s - loss: 0.6673 - acc: 0.6020\n",
      "Epoch 25/500\n",
      " - 0s - loss: 0.6670 - acc: 0.6020\n",
      "Epoch 26/500\n",
      " - 0s - loss: 0.6666 - acc: 0.6020\n",
      "Epoch 27/500\n",
      " - 0s - loss: 0.6661 - acc: 0.6020\n",
      "Epoch 28/500\n",
      " - 0s - loss: 0.6657 - acc: 0.6020\n",
      "Epoch 29/500\n",
      " - 0s - loss: 0.6653 - acc: 0.6020\n",
      "Epoch 30/500\n",
      " - 0s - loss: 0.6650 - acc: 0.6020\n",
      "Epoch 31/500\n",
      " - 0s - loss: 0.6647 - acc: 0.6020\n",
      "Epoch 32/500\n",
      " - 0s - loss: 0.6645 - acc: 0.6020\n",
      "Epoch 33/500\n",
      " - 0s - loss: 0.6643 - acc: 0.6020\n",
      "Epoch 34/500\n",
      " - 0s - loss: 0.6641 - acc: 0.6020\n",
      "Epoch 35/500\n",
      " - 0s - loss: 0.6639 - acc: 0.6020\n",
      "Epoch 36/500\n",
      " - 0s - loss: 0.6637 - acc: 0.6020\n",
      "Epoch 37/500\n",
      " - 0s - loss: 0.6634 - acc: 0.6020\n",
      "Epoch 38/500\n",
      " - 0s - loss: 0.6631 - acc: 0.6020\n",
      "Epoch 39/500\n",
      " - 0s - loss: 0.6628 - acc: 0.6020\n",
      "Epoch 40/500\n",
      " - 0s - loss: 0.6625 - acc: 0.6020\n",
      "Epoch 41/500\n",
      " - 0s - loss: 0.6622 - acc: 0.6020\n",
      "Epoch 42/500\n",
      " - 0s - loss: 0.6619 - acc: 0.6020\n",
      "Epoch 43/500\n",
      " - 0s - loss: 0.6617 - acc: 0.6041\n",
      "Epoch 44/500\n",
      " - 0s - loss: 0.6614 - acc: 0.6041\n",
      "Epoch 45/500\n",
      " - 0s - loss: 0.6612 - acc: 0.6020\n",
      "Epoch 46/500\n",
      " - 0s - loss: 0.6610 - acc: 0.6020\n",
      "Epoch 47/500\n",
      " - 0s - loss: 0.6607 - acc: 0.6041\n",
      "Epoch 48/500\n",
      " - 0s - loss: 0.6605 - acc: 0.6041\n",
      "Epoch 49/500\n",
      " - 0s - loss: 0.6602 - acc: 0.6061\n",
      "Epoch 50/500\n",
      " - 0s - loss: 0.6599 - acc: 0.6061\n",
      "Epoch 51/500\n",
      " - 0s - loss: 0.6597 - acc: 0.6061\n",
      "Epoch 52/500\n",
      " - 0s - loss: 0.6594 - acc: 0.6061\n",
      "Epoch 53/500\n",
      " - 0s - loss: 0.6592 - acc: 0.6061\n",
      "Epoch 54/500\n",
      " - 0s - loss: 0.6590 - acc: 0.6061\n",
      "Epoch 55/500\n",
      " - 0s - loss: 0.6588 - acc: 0.6102\n",
      "Epoch 56/500\n",
      " - 0s - loss: 0.6585 - acc: 0.6143\n",
      "Epoch 57/500\n",
      " - 0s - loss: 0.6583 - acc: 0.6143\n",
      "Epoch 58/500\n",
      " - 0s - loss: 0.6581 - acc: 0.6204\n",
      "Epoch 59/500\n",
      " - 0s - loss: 0.6578 - acc: 0.6224\n",
      "Epoch 60/500\n",
      " - 0s - loss: 0.6576 - acc: 0.6245\n",
      "Epoch 61/500\n",
      " - 0s - loss: 0.6574 - acc: 0.6245\n",
      "Epoch 62/500\n",
      " - 0s - loss: 0.6572 - acc: 0.6245\n",
      "Epoch 63/500\n",
      " - 0s - loss: 0.6571 - acc: 0.6184\n",
      "Epoch 64/500\n",
      " - 0s - loss: 0.6569 - acc: 0.6184\n",
      "Epoch 65/500\n",
      " - 0s - loss: 0.6567 - acc: 0.6204\n",
      "Epoch 66/500\n",
      " - 0s - loss: 0.6565 - acc: 0.6204\n",
      "Epoch 67/500\n",
      " - 0s - loss: 0.6563 - acc: 0.6184\n",
      "Epoch 68/500\n",
      " - 0s - loss: 0.6562 - acc: 0.6184\n",
      "Epoch 69/500\n",
      " - 0s - loss: 0.6560 - acc: 0.6184\n",
      "Epoch 70/500\n",
      " - 0s - loss: 0.6559 - acc: 0.6184\n",
      "Epoch 71/500\n",
      " - 0s - loss: 0.6557 - acc: 0.6204\n",
      "Epoch 72/500\n",
      " - 0s - loss: 0.6556 - acc: 0.6224\n",
      "Epoch 73/500\n",
      " - 0s - loss: 0.6554 - acc: 0.6184\n",
      "Epoch 74/500\n",
      " - 0s - loss: 0.6553 - acc: 0.6265\n",
      "Epoch 75/500\n",
      " - 0s - loss: 0.6551 - acc: 0.6224\n",
      "Epoch 76/500\n",
      " - 0s - loss: 0.6550 - acc: 0.6204\n",
      "Epoch 77/500\n",
      " - 0s - loss: 0.6548 - acc: 0.6204\n",
      "Epoch 78/500\n",
      " - 0s - loss: 0.6547 - acc: 0.6163\n",
      "Epoch 79/500\n",
      " - 0s - loss: 0.6546 - acc: 0.6163\n",
      "Epoch 80/500\n",
      " - 0s - loss: 0.6544 - acc: 0.6184\n",
      "Epoch 81/500\n",
      " - 0s - loss: 0.6543 - acc: 0.6184\n",
      "Epoch 82/500\n",
      " - 0s - loss: 0.6542 - acc: 0.6184\n",
      "Epoch 83/500\n",
      " - 0s - loss: 0.6540 - acc: 0.6163\n",
      "Epoch 84/500\n",
      " - 0s - loss: 0.6539 - acc: 0.6143\n",
      "Epoch 85/500\n",
      " - 0s - loss: 0.6537 - acc: 0.6143\n",
      "Epoch 86/500\n",
      " - 0s - loss: 0.6536 - acc: 0.6143\n",
      "Epoch 87/500\n",
      " - 0s - loss: 0.6535 - acc: 0.6143\n",
      "Epoch 88/500\n",
      " - 0s - loss: 0.6533 - acc: 0.6143\n",
      "Epoch 89/500\n",
      " - 0s - loss: 0.6532 - acc: 0.6143\n",
      "Epoch 90/500\n",
      " - 0s - loss: 0.6530 - acc: 0.6143\n",
      "Epoch 91/500\n",
      " - 0s - loss: 0.6529 - acc: 0.6122\n",
      "Epoch 92/500\n",
      " - 0s - loss: 0.6528 - acc: 0.6143\n",
      "Epoch 93/500\n",
      " - 0s - loss: 0.6526 - acc: 0.6143\n",
      "Epoch 94/500\n",
      " - 0s - loss: 0.6525 - acc: 0.6143\n",
      "Epoch 95/500\n",
      " - 0s - loss: 0.6523 - acc: 0.6163\n",
      "Epoch 96/500\n",
      " - 0s - loss: 0.6522 - acc: 0.6143\n",
      "Epoch 97/500\n",
      " - 0s - loss: 0.6520 - acc: 0.6143\n",
      "Epoch 98/500\n",
      " - 0s - loss: 0.6519 - acc: 0.6143\n",
      "Epoch 99/500\n",
      " - 0s - loss: 0.6517 - acc: 0.6143\n",
      "Epoch 100/500\n",
      " - 0s - loss: 0.6515 - acc: 0.6122\n",
      "Epoch 101/500\n",
      " - 0s - loss: 0.6514 - acc: 0.6122\n",
      "Epoch 102/500\n",
      " - 0s - loss: 0.6512 - acc: 0.6122\n",
      "Epoch 103/500\n",
      " - 0s - loss: 0.6510 - acc: 0.6143\n",
      "Epoch 104/500\n",
      " - 0s - loss: 0.6509 - acc: 0.6143\n",
      "Epoch 105/500\n",
      " - 0s - loss: 0.6507 - acc: 0.6143\n",
      "Epoch 106/500\n",
      " - 0s - loss: 0.6505 - acc: 0.6122\n",
      "Epoch 107/500\n",
      " - 0s - loss: 0.6503 - acc: 0.6102\n",
      "Epoch 108/500\n",
      " - 0s - loss: 0.6502 - acc: 0.6102\n",
      "Epoch 109/500\n",
      " - 0s - loss: 0.6500 - acc: 0.6102\n",
      "Epoch 110/500\n",
      " - 0s - loss: 0.6498 - acc: 0.6102\n",
      "Epoch 111/500\n",
      " - 0s - loss: 0.6496 - acc: 0.6082\n",
      "Epoch 112/500\n",
      " - 0s - loss: 0.6494 - acc: 0.6102\n",
      "Epoch 113/500\n",
      " - 0s - loss: 0.6492 - acc: 0.6204\n",
      "Epoch 114/500\n",
      " - 0s - loss: 0.6489 - acc: 0.6224\n",
      "Epoch 115/500\n",
      " - 0s - loss: 0.6487 - acc: 0.6224\n",
      "Epoch 116/500\n",
      " - 0s - loss: 0.6485 - acc: 0.6204\n",
      "Epoch 117/500\n",
      " - 0s - loss: 0.6483 - acc: 0.6265\n",
      "Epoch 118/500\n",
      " - 0s - loss: 0.6480 - acc: 0.6265\n",
      "Epoch 119/500\n",
      " - 0s - loss: 0.6478 - acc: 0.6265\n",
      "Epoch 120/500\n",
      " - 0s - loss: 0.6475 - acc: 0.6286\n",
      "Epoch 121/500\n",
      " - 0s - loss: 0.6472 - acc: 0.6265\n",
      "Epoch 122/500\n",
      " - 0s - loss: 0.6470 - acc: 0.6265\n",
      "Epoch 123/500\n",
      " - 0s - loss: 0.6467 - acc: 0.6265\n",
      "Epoch 124/500\n",
      " - 0s - loss: 0.6464 - acc: 0.6265\n",
      "Epoch 125/500\n",
      " - 0s - loss: 0.6461 - acc: 0.6286\n",
      "Epoch 126/500\n",
      " - 0s - loss: 0.6458 - acc: 0.6265\n",
      "Epoch 127/500\n",
      " - 0s - loss: 0.6455 - acc: 0.6265\n",
      "Epoch 128/500\n",
      " - 0s - loss: 0.6452 - acc: 0.6286\n",
      "Epoch 129/500\n",
      " - 0s - loss: 0.6448 - acc: 0.6286\n",
      "Epoch 130/500\n",
      " - 0s - loss: 0.6445 - acc: 0.6286\n",
      "Epoch 131/500\n",
      " - 0s - loss: 0.6441 - acc: 0.6306\n",
      "Epoch 132/500\n",
      " - 0s - loss: 0.6437 - acc: 0.6327\n",
      "Epoch 133/500\n",
      " - 0s - loss: 0.6433 - acc: 0.6327\n",
      "Epoch 134/500\n",
      " - 0s - loss: 0.6430 - acc: 0.6327\n",
      "Epoch 135/500\n",
      " - 0s - loss: 0.6425 - acc: 0.6347\n",
      "Epoch 136/500\n",
      " - 0s - loss: 0.6421 - acc: 0.6347\n",
      "Epoch 137/500\n",
      " - 0s - loss: 0.6417 - acc: 0.6347\n",
      "Epoch 138/500\n",
      " - 0s - loss: 0.6412 - acc: 0.6347\n",
      "Epoch 139/500\n",
      " - 0s - loss: 0.6408 - acc: 0.6367\n",
      "Epoch 140/500\n",
      " - 0s - loss: 0.6403 - acc: 0.6367\n",
      "Epoch 141/500\n",
      " - 0s - loss: 0.6398 - acc: 0.6367\n",
      "Epoch 142/500\n",
      " - 0s - loss: 0.6393 - acc: 0.6367\n",
      "Epoch 143/500\n",
      " - 0s - loss: 0.6387 - acc: 0.6388\n",
      "Epoch 144/500\n",
      " - 0s - loss: 0.6382 - acc: 0.6388\n",
      "Epoch 145/500\n",
      " - 0s - loss: 0.6376 - acc: 0.6367\n",
      "Epoch 146/500\n",
      " - 0s - loss: 0.6371 - acc: 0.6367\n",
      "Epoch 147/500\n",
      " - 0s - loss: 0.6365 - acc: 0.6367\n",
      "Epoch 148/500\n",
      " - 0s - loss: 0.6359 - acc: 0.6367\n",
      "Epoch 149/500\n",
      " - 0s - loss: 0.6352 - acc: 0.6367\n",
      "Epoch 150/500\n",
      " - 0s - loss: 0.6346 - acc: 0.6388\n",
      "Epoch 151/500\n",
      " - 0s - loss: 0.6339 - acc: 0.6408\n",
      "Epoch 152/500\n",
      " - 0s - loss: 0.6332 - acc: 0.6429\n",
      "Epoch 153/500\n",
      " - 0s - loss: 0.6325 - acc: 0.6449\n",
      "Epoch 154/500\n",
      " - 0s - loss: 0.6318 - acc: 0.6449\n",
      "Epoch 155/500\n",
      " - 0s - loss: 0.6310 - acc: 0.6449\n",
      "Epoch 156/500\n",
      " - 0s - loss: 0.6303 - acc: 0.6449\n",
      "Epoch 157/500\n",
      " - 0s - loss: 0.6295 - acc: 0.6469\n",
      "Epoch 158/500\n",
      " - 0s - loss: 0.6287 - acc: 0.6490\n",
      "Epoch 159/500\n",
      " - 0s - loss: 0.6278 - acc: 0.6510\n",
      "Epoch 160/500\n",
      " - 0s - loss: 0.6270 - acc: 0.6510\n",
      "Epoch 161/500\n",
      " - 0s - loss: 0.6261 - acc: 0.6510\n",
      "Epoch 162/500\n",
      " - 0s - loss: 0.6252 - acc: 0.6469\n",
      "Epoch 163/500\n",
      " - 0s - loss: 0.6243 - acc: 0.6531\n",
      "Epoch 164/500\n",
      " - 0s - loss: 0.6234 - acc: 0.6531\n",
      "Epoch 165/500\n",
      " - 0s - loss: 0.6224 - acc: 0.6531\n",
      "Epoch 166/500\n",
      " - 0s - loss: 0.6215 - acc: 0.6592\n",
      "Epoch 167/500\n",
      " - 0s - loss: 0.6205 - acc: 0.6633\n",
      "Epoch 168/500\n",
      " - 0s - loss: 0.6194 - acc: 0.6653\n",
      "Epoch 169/500\n",
      " - 0s - loss: 0.6184 - acc: 0.6673\n",
      "Epoch 170/500\n",
      " - 0s - loss: 0.6174 - acc: 0.6694\n"
     ]
    },
    {
     "name": "stdout",
     "output_type": "stream",
     "text": [
      "Epoch 171/500\n",
      " - 0s - loss: 0.6163 - acc: 0.6694\n",
      "Epoch 172/500\n",
      " - 0s - loss: 0.6152 - acc: 0.6694\n",
      "Epoch 173/500\n",
      " - 0s - loss: 0.6141 - acc: 0.6755\n",
      "Epoch 174/500\n",
      " - 0s - loss: 0.6130 - acc: 0.6755\n",
      "Epoch 175/500\n",
      " - 0s - loss: 0.6118 - acc: 0.6755\n",
      "Epoch 176/500\n",
      " - 0s - loss: 0.6107 - acc: 0.6776\n",
      "Epoch 177/500\n",
      " - 0s - loss: 0.6095 - acc: 0.6796\n",
      "Epoch 178/500\n",
      " - 0s - loss: 0.6083 - acc: 0.6796\n",
      "Epoch 179/500\n",
      " - 0s - loss: 0.6071 - acc: 0.6796\n",
      "Epoch 180/500\n",
      " - 0s - loss: 0.6059 - acc: 0.6837\n",
      "Epoch 181/500\n",
      " - 0s - loss: 0.6046 - acc: 0.6857\n",
      "Epoch 182/500\n",
      " - 0s - loss: 0.6034 - acc: 0.6857\n",
      "Epoch 183/500\n",
      " - 0s - loss: 0.6021 - acc: 0.6878\n",
      "Epoch 184/500\n",
      " - 0s - loss: 0.6009 - acc: 0.6857\n",
      "Epoch 185/500\n",
      " - 0s - loss: 0.5996 - acc: 0.6857\n",
      "Epoch 186/500\n",
      " - 0s - loss: 0.5983 - acc: 0.6857\n",
      "Epoch 187/500\n",
      " - 0s - loss: 0.5970 - acc: 0.6878\n",
      "Epoch 188/500\n",
      " - 0s - loss: 0.5957 - acc: 0.6959\n",
      "Epoch 189/500\n",
      " - 0s - loss: 0.5944 - acc: 0.6939\n",
      "Epoch 190/500\n",
      " - 0s - loss: 0.5931 - acc: 0.6980\n",
      "Epoch 191/500\n",
      " - 0s - loss: 0.5917 - acc: 0.7000\n",
      "Epoch 192/500\n",
      " - 0s - loss: 0.5904 - acc: 0.7061\n",
      "Epoch 193/500\n",
      " - 0s - loss: 0.5890 - acc: 0.7082\n",
      "Epoch 194/500\n",
      " - 0s - loss: 0.5876 - acc: 0.7102\n",
      "Epoch 195/500\n",
      " - 0s - loss: 0.5863 - acc: 0.7143\n",
      "Epoch 196/500\n",
      " - 0s - loss: 0.5849 - acc: 0.7163\n",
      "Epoch 197/500\n",
      " - 0s - loss: 0.5835 - acc: 0.7163\n",
      "Epoch 198/500\n",
      " - 0s - loss: 0.5821 - acc: 0.7163\n",
      "Epoch 199/500\n",
      " - 0s - loss: 0.5807 - acc: 0.7163\n",
      "Epoch 200/500\n",
      " - 0s - loss: 0.5792 - acc: 0.7143\n",
      "Epoch 201/500\n",
      " - 0s - loss: 0.5778 - acc: 0.7143\n",
      "Epoch 202/500\n",
      " - 0s - loss: 0.5763 - acc: 0.7163\n",
      "Epoch 203/500\n",
      " - 0s - loss: 0.5749 - acc: 0.7184\n",
      "Epoch 204/500\n",
      " - 0s - loss: 0.5734 - acc: 0.7184\n",
      "Epoch 205/500\n",
      " - 0s - loss: 0.5719 - acc: 0.7184\n",
      "Epoch 206/500\n",
      " - 0s - loss: 0.5705 - acc: 0.7184\n",
      "Epoch 207/500\n",
      " - 0s - loss: 0.5690 - acc: 0.7184\n",
      "Epoch 208/500\n",
      " - 0s - loss: 0.5675 - acc: 0.7184\n",
      "Epoch 209/500\n",
      " - 0s - loss: 0.5660 - acc: 0.7184\n",
      "Epoch 210/500\n",
      " - 0s - loss: 0.5645 - acc: 0.7184\n",
      "Epoch 211/500\n",
      " - 0s - loss: 0.5630 - acc: 0.7163\n",
      "Epoch 212/500\n",
      " - 0s - loss: 0.5615 - acc: 0.7224\n",
      "Epoch 213/500\n",
      " - 0s - loss: 0.5600 - acc: 0.7224\n",
      "Epoch 214/500\n",
      " - 0s - loss: 0.5586 - acc: 0.7224\n",
      "Epoch 215/500\n",
      " - 0s - loss: 0.5573 - acc: 0.7286\n",
      "Epoch 216/500\n",
      " - 0s - loss: 0.5558 - acc: 0.7184\n",
      "Epoch 217/500\n",
      " - 0s - loss: 0.5542 - acc: 0.7327\n",
      "Epoch 218/500\n",
      " - 0s - loss: 0.5529 - acc: 0.7286\n",
      "Epoch 219/500\n",
      " - 0s - loss: 0.5516 - acc: 0.7204\n",
      "Epoch 220/500\n",
      " - 0s - loss: 0.5501 - acc: 0.7327\n",
      "Epoch 221/500\n",
      " - 0s - loss: 0.5486 - acc: 0.7327\n",
      "Epoch 222/500\n",
      " - 0s - loss: 0.5473 - acc: 0.7245\n",
      "Epoch 223/500\n",
      " - 0s - loss: 0.5459 - acc: 0.7367\n",
      "Epoch 224/500\n",
      " - 0s - loss: 0.5444 - acc: 0.7265\n",
      "Epoch 225/500\n",
      " - 0s - loss: 0.5431 - acc: 0.7286\n",
      "Epoch 226/500\n",
      " - 0s - loss: 0.5417 - acc: 0.7327\n",
      "Epoch 227/500\n",
      " - 0s - loss: 0.5403 - acc: 0.7327\n",
      "Epoch 228/500\n",
      " - 0s - loss: 0.5388 - acc: 0.7327\n",
      "Epoch 229/500\n",
      " - 0s - loss: 0.5375 - acc: 0.7286\n",
      "Epoch 230/500\n",
      " - 0s - loss: 0.5360 - acc: 0.7347\n",
      "Epoch 231/500\n",
      " - 0s - loss: 0.5346 - acc: 0.7265\n",
      "Epoch 232/500\n",
      " - 0s - loss: 0.5331 - acc: 0.7306\n",
      "Epoch 233/500\n",
      " - 0s - loss: 0.5317 - acc: 0.7347\n",
      "Epoch 234/500\n",
      " - 0s - loss: 0.5303 - acc: 0.7327\n",
      "Epoch 235/500\n",
      " - 0s - loss: 0.5288 - acc: 0.7367\n",
      "Epoch 236/500\n",
      " - 0s - loss: 0.5273 - acc: 0.7388\n",
      "Epoch 237/500\n",
      " - 0s - loss: 0.5258 - acc: 0.7367\n",
      "Epoch 238/500\n",
      " - 0s - loss: 0.5244 - acc: 0.7408\n",
      "Epoch 239/500\n",
      " - 0s - loss: 0.5229 - acc: 0.7429\n",
      "Epoch 240/500\n",
      " - 0s - loss: 0.5214 - acc: 0.7408\n",
      "Epoch 241/500\n",
      " - 0s - loss: 0.5199 - acc: 0.7429\n",
      "Epoch 242/500\n",
      " - 0s - loss: 0.5184 - acc: 0.7429\n",
      "Epoch 243/500\n",
      " - 0s - loss: 0.5169 - acc: 0.7490\n",
      "Epoch 244/500\n",
      " - 0s - loss: 0.5154 - acc: 0.7490\n",
      "Epoch 245/500\n",
      " - 0s - loss: 0.5138 - acc: 0.7510\n",
      "Epoch 246/500\n",
      " - 0s - loss: 0.5123 - acc: 0.7510\n",
      "Epoch 247/500\n",
      " - 0s - loss: 0.5107 - acc: 0.7531\n",
      "Epoch 248/500\n",
      " - 0s - loss: 0.5091 - acc: 0.7531\n",
      "Epoch 249/500\n",
      " - 0s - loss: 0.5076 - acc: 0.7551\n",
      "Epoch 250/500\n",
      " - 0s - loss: 0.5060 - acc: 0.7551\n",
      "Epoch 251/500\n",
      " - 0s - loss: 0.5044 - acc: 0.7551\n",
      "Epoch 252/500\n",
      " - 0s - loss: 0.5029 - acc: 0.7592\n",
      "Epoch 253/500\n",
      " - 0s - loss: 0.5013 - acc: 0.7592\n",
      "Epoch 254/500\n",
      " - 0s - loss: 0.4998 - acc: 0.7735\n",
      "Epoch 255/500\n",
      " - 0s - loss: 0.4983 - acc: 0.7612\n",
      "Epoch 256/500\n",
      " - 0s - loss: 0.4969 - acc: 0.7714\n",
      "Epoch 257/500\n",
      " - 0s - loss: 0.4954 - acc: 0.7612\n",
      "Epoch 258/500\n",
      " - 0s - loss: 0.4937 - acc: 0.7755\n",
      "Epoch 259/500\n",
      " - 0s - loss: 0.4919 - acc: 0.7796\n",
      "Epoch 260/500\n",
      " - 0s - loss: 0.4905 - acc: 0.7776\n",
      "Epoch 261/500\n",
      " - 0s - loss: 0.4891 - acc: 0.7755\n",
      "Epoch 262/500\n",
      " - 0s - loss: 0.4876 - acc: 0.7776\n",
      "Epoch 263/500\n",
      " - 0s - loss: 0.4859 - acc: 0.7776\n",
      "Epoch 264/500\n",
      " - 0s - loss: 0.4844 - acc: 0.7776\n",
      "Epoch 265/500\n",
      " - 0s - loss: 0.4830 - acc: 0.7796\n",
      "Epoch 266/500\n",
      " - 0s - loss: 0.4815 - acc: 0.7816\n",
      "Epoch 267/500\n",
      " - 0s - loss: 0.4799 - acc: 0.7776\n",
      "Epoch 268/500\n",
      " - 0s - loss: 0.4783 - acc: 0.7816\n",
      "Epoch 269/500\n",
      " - 0s - loss: 0.4769 - acc: 0.7816\n",
      "Epoch 270/500\n",
      " - 0s - loss: 0.4754 - acc: 0.7857\n",
      "Epoch 271/500\n",
      " - 0s - loss: 0.4738 - acc: 0.7816\n",
      "Epoch 272/500\n",
      " - 0s - loss: 0.4722 - acc: 0.7837\n",
      "Epoch 273/500\n",
      " - 0s - loss: 0.4707 - acc: 0.7878\n",
      "Epoch 274/500\n",
      " - 0s - loss: 0.4692 - acc: 0.7857\n",
      "Epoch 275/500\n",
      " - 0s - loss: 0.4677 - acc: 0.7898\n",
      "Epoch 276/500\n",
      " - 0s - loss: 0.4661 - acc: 0.7857\n",
      "Epoch 277/500\n",
      " - 0s - loss: 0.4645 - acc: 0.7898\n",
      "Epoch 278/500\n",
      " - 0s - loss: 0.4630 - acc: 0.7898\n",
      "Epoch 279/500\n",
      " - 0s - loss: 0.4614 - acc: 0.7898\n",
      "Epoch 280/500\n",
      " - 0s - loss: 0.4599 - acc: 0.7898\n",
      "Epoch 281/500\n",
      " - 0s - loss: 0.4583 - acc: 0.7918\n",
      "Epoch 282/500\n",
      " - 0s - loss: 0.4567 - acc: 0.7898\n",
      "Epoch 283/500\n",
      " - 0s - loss: 0.4551 - acc: 0.7918\n",
      "Epoch 284/500\n",
      " - 0s - loss: 0.4536 - acc: 0.7918\n",
      "Epoch 285/500\n",
      " - 0s - loss: 0.4520 - acc: 0.7918\n",
      "Epoch 286/500\n",
      " - 0s - loss: 0.4504 - acc: 0.7959\n",
      "Epoch 287/500\n",
      " - 0s - loss: 0.4488 - acc: 0.7980\n",
      "Epoch 288/500\n",
      " - 0s - loss: 0.4473 - acc: 0.7959\n",
      "Epoch 289/500\n",
      " - 0s - loss: 0.4456 - acc: 0.7980\n",
      "Epoch 290/500\n",
      " - 0s - loss: 0.4440 - acc: 0.7959\n",
      "Epoch 291/500\n",
      " - 0s - loss: 0.4424 - acc: 0.7980\n",
      "Epoch 292/500\n",
      " - 0s - loss: 0.4408 - acc: 0.7980\n",
      "Epoch 293/500\n",
      " - 0s - loss: 0.4392 - acc: 0.7980\n",
      "Epoch 294/500\n",
      " - 0s - loss: 0.4376 - acc: 0.7980\n",
      "Epoch 295/500\n",
      " - 0s - loss: 0.4360 - acc: 0.8041\n",
      "Epoch 296/500\n",
      " - 0s - loss: 0.4344 - acc: 0.8000\n",
      "Epoch 297/500\n",
      " - 0s - loss: 0.4327 - acc: 0.8102\n",
      "Epoch 298/500\n",
      " - 0s - loss: 0.4312 - acc: 0.8041\n",
      "Epoch 299/500\n",
      " - 0s - loss: 0.4296 - acc: 0.8163\n",
      "Epoch 300/500\n",
      " - 0s - loss: 0.4281 - acc: 0.8000\n",
      "Epoch 301/500\n",
      " - 0s - loss: 0.4268 - acc: 0.8224\n",
      "Epoch 302/500\n",
      " - 0s - loss: 0.4254 - acc: 0.8020\n",
      "Epoch 303/500\n",
      " - 0s - loss: 0.4238 - acc: 0.8245\n",
      "Epoch 304/500\n",
      " - 0s - loss: 0.4219 - acc: 0.8082\n",
      "Epoch 305/500\n",
      " - 0s - loss: 0.4201 - acc: 0.8204\n",
      "Epoch 306/500\n",
      " - 0s - loss: 0.4188 - acc: 0.8245\n",
      "Epoch 307/500\n",
      " - 0s - loss: 0.4176 - acc: 0.8102\n",
      "Epoch 308/500\n",
      " - 0s - loss: 0.4160 - acc: 0.8286\n",
      "Epoch 309/500\n",
      " - 0s - loss: 0.4142 - acc: 0.8184\n",
      "Epoch 310/500\n",
      " - 0s - loss: 0.4128 - acc: 0.8163\n",
      "Epoch 311/500\n",
      " - 0s - loss: 0.4115 - acc: 0.8286\n",
      "Epoch 312/500\n",
      " - 0s - loss: 0.4100 - acc: 0.8204\n",
      "Epoch 313/500\n",
      " - 0s - loss: 0.4084 - acc: 0.8286\n",
      "Epoch 314/500\n",
      " - 0s - loss: 0.4069 - acc: 0.8265\n",
      "Epoch 315/500\n",
      " - 0s - loss: 0.4056 - acc: 0.8286\n",
      "Epoch 316/500\n",
      " - 0s - loss: 0.4041 - acc: 0.8286\n",
      "Epoch 317/500\n",
      " - 0s - loss: 0.4025 - acc: 0.8286\n",
      "Epoch 318/500\n",
      " - 0s - loss: 0.4011 - acc: 0.8306\n",
      "Epoch 319/500\n",
      " - 0s - loss: 0.3997 - acc: 0.8286\n",
      "Epoch 320/500\n",
      " - 0s - loss: 0.3983 - acc: 0.8306\n",
      "Epoch 321/500\n",
      " - 0s - loss: 0.3967 - acc: 0.8306\n",
      "Epoch 322/500\n",
      " - 0s - loss: 0.3952 - acc: 0.8327\n",
      "Epoch 323/500\n",
      " - 0s - loss: 0.3938 - acc: 0.8367\n",
      "Epoch 324/500\n",
      " - 0s - loss: 0.3924 - acc: 0.8306\n",
      "Epoch 325/500\n",
      " - 0s - loss: 0.3909 - acc: 0.8388\n",
      "Epoch 326/500\n",
      " - 0s - loss: 0.3894 - acc: 0.8347\n",
      "Epoch 327/500\n",
      " - 0s - loss: 0.3879 - acc: 0.8347\n",
      "Epoch 328/500\n",
      " - 0s - loss: 0.3865 - acc: 0.8408\n",
      "Epoch 329/500\n",
      " - 0s - loss: 0.3851 - acc: 0.8367\n",
      "Epoch 330/500\n",
      " - 0s - loss: 0.3836 - acc: 0.8408\n",
      "Epoch 331/500\n",
      " - 0s - loss: 0.3821 - acc: 0.8429\n",
      "Epoch 332/500\n",
      " - 0s - loss: 0.3806 - acc: 0.8449\n",
      "Epoch 333/500\n",
      " - 0s - loss: 0.3792 - acc: 0.8449\n",
      "Epoch 334/500\n",
      " - 0s - loss: 0.3778 - acc: 0.8510\n",
      "Epoch 335/500\n",
      " - 0s - loss: 0.3763 - acc: 0.8469\n",
      "Epoch 336/500\n",
      " - 0s - loss: 0.3748 - acc: 0.8531\n",
      "Epoch 337/500\n",
      " - 0s - loss: 0.3733 - acc: 0.8531\n",
      "Epoch 338/500\n"
     ]
    },
    {
     "name": "stdout",
     "output_type": "stream",
     "text": [
      " - 0s - loss: 0.3718 - acc: 0.8531\n",
      "Epoch 339/500\n",
      " - 0s - loss: 0.3704 - acc: 0.8571\n",
      "Epoch 340/500\n",
      " - 0s - loss: 0.3689 - acc: 0.8551\n",
      "Epoch 341/500\n",
      " - 0s - loss: 0.3675 - acc: 0.8592\n",
      "Epoch 342/500\n",
      " - 0s - loss: 0.3660 - acc: 0.8571\n",
      "Epoch 343/500\n",
      " - 0s - loss: 0.3646 - acc: 0.8592\n",
      "Epoch 344/500\n",
      " - 0s - loss: 0.3631 - acc: 0.8592\n",
      "Epoch 345/500\n",
      " - 0s - loss: 0.3616 - acc: 0.8592\n",
      "Epoch 346/500\n",
      " - 0s - loss: 0.3602 - acc: 0.8592\n",
      "Epoch 347/500\n",
      " - 0s - loss: 0.3587 - acc: 0.8592\n",
      "Epoch 348/500\n",
      " - 0s - loss: 0.3572 - acc: 0.8592\n",
      "Epoch 349/500\n",
      " - 0s - loss: 0.3558 - acc: 0.8633\n",
      "Epoch 350/500\n",
      " - 0s - loss: 0.3543 - acc: 0.8673\n",
      "Epoch 351/500\n",
      " - 0s - loss: 0.3529 - acc: 0.8714\n",
      "Epoch 352/500\n",
      " - 0s - loss: 0.3514 - acc: 0.8714\n",
      "Epoch 353/500\n",
      " - 0s - loss: 0.3500 - acc: 0.8714\n",
      "Epoch 354/500\n",
      " - 0s - loss: 0.3486 - acc: 0.8755\n",
      "Epoch 355/500\n",
      " - 0s - loss: 0.3472 - acc: 0.8714\n",
      "Epoch 356/500\n",
      " - 0s - loss: 0.3458 - acc: 0.8755\n",
      "Epoch 357/500\n",
      " - 0s - loss: 0.3446 - acc: 0.8714\n",
      "Epoch 358/500\n",
      " - 0s - loss: 0.3434 - acc: 0.8776\n",
      "Epoch 359/500\n",
      " - 0s - loss: 0.3421 - acc: 0.8714\n",
      "Epoch 360/500\n",
      " - 0s - loss: 0.3405 - acc: 0.8857\n",
      "Epoch 361/500\n",
      " - 0s - loss: 0.3388 - acc: 0.8816\n",
      "Epoch 362/500\n",
      " - 0s - loss: 0.3373 - acc: 0.8857\n",
      "Epoch 363/500\n",
      " - 0s - loss: 0.3361 - acc: 0.8878\n",
      "Epoch 364/500\n",
      " - 0s - loss: 0.3350 - acc: 0.8816\n",
      "Epoch 365/500\n",
      " - 0s - loss: 0.3336 - acc: 0.8878\n",
      "Epoch 366/500\n",
      " - 0s - loss: 0.3321 - acc: 0.8878\n",
      "Epoch 367/500\n",
      " - 0s - loss: 0.3306 - acc: 0.8898\n",
      "Epoch 368/500\n",
      " - 0s - loss: 0.3294 - acc: 0.8918\n",
      "Epoch 369/500\n",
      " - 0s - loss: 0.3283 - acc: 0.8898\n",
      "Epoch 370/500\n",
      " - 0s - loss: 0.3269 - acc: 0.8918\n",
      "Epoch 371/500\n",
      " - 0s - loss: 0.3255 - acc: 0.8918\n",
      "Epoch 372/500\n",
      " - 0s - loss: 0.3241 - acc: 0.8939\n",
      "Epoch 373/500\n",
      " - 0s - loss: 0.3229 - acc: 0.8939\n",
      "Epoch 374/500\n",
      " - 0s - loss: 0.3217 - acc: 0.8939\n",
      "Epoch 375/500\n",
      " - 0s - loss: 0.3204 - acc: 0.8939\n",
      "Epoch 376/500\n",
      " - 0s - loss: 0.3190 - acc: 0.8959\n",
      "Epoch 377/500\n",
      " - 0s - loss: 0.3177 - acc: 0.8959\n",
      "Epoch 378/500\n",
      " - 0s - loss: 0.3164 - acc: 0.8959\n",
      "Epoch 379/500\n",
      " - 0s - loss: 0.3152 - acc: 0.8959\n",
      "Epoch 380/500\n",
      " - 0s - loss: 0.3139 - acc: 0.8980\n",
      "Epoch 381/500\n",
      " - 0s - loss: 0.3126 - acc: 0.8959\n",
      "Epoch 382/500\n",
      " - 0s - loss: 0.3113 - acc: 0.8959\n",
      "Epoch 383/500\n",
      " - 0s - loss: 0.3101 - acc: 0.8980\n",
      "Epoch 384/500\n",
      " - 0s - loss: 0.3088 - acc: 0.9000\n",
      "Epoch 385/500\n",
      " - 0s - loss: 0.3076 - acc: 0.8980\n",
      "Epoch 386/500\n",
      " - 0s - loss: 0.3063 - acc: 0.9000\n",
      "Epoch 387/500\n",
      " - 0s - loss: 0.3050 - acc: 0.8980\n",
      "Epoch 388/500\n",
      " - 0s - loss: 0.3038 - acc: 0.9000\n",
      "Epoch 389/500\n",
      " - 0s - loss: 0.3025 - acc: 0.9020\n",
      "Epoch 390/500\n",
      " - 0s - loss: 0.3013 - acc: 0.9000\n",
      "Epoch 391/500\n",
      " - 0s - loss: 0.3001 - acc: 0.9020\n",
      "Epoch 392/500\n",
      " - 0s - loss: 0.2988 - acc: 0.9041\n",
      "Epoch 393/500\n",
      " - 0s - loss: 0.2976 - acc: 0.9020\n",
      "Epoch 394/500\n",
      " - 0s - loss: 0.2963 - acc: 0.9061\n",
      "Epoch 395/500\n",
      " - 0s - loss: 0.2951 - acc: 0.9061\n",
      "Epoch 396/500\n",
      " - 0s - loss: 0.2939 - acc: 0.9061\n",
      "Epoch 397/500\n",
      " - 0s - loss: 0.2927 - acc: 0.9102\n",
      "Epoch 398/500\n",
      " - 0s - loss: 0.2915 - acc: 0.9082\n",
      "Epoch 399/500\n",
      " - 0s - loss: 0.2902 - acc: 0.9102\n",
      "Epoch 400/500\n",
      " - 0s - loss: 0.2890 - acc: 0.9102\n",
      "Epoch 401/500\n",
      " - 0s - loss: 0.2878 - acc: 0.9122\n",
      "Epoch 402/500\n",
      " - 0s - loss: 0.2866 - acc: 0.9102\n",
      "Epoch 403/500\n",
      " - 0s - loss: 0.2854 - acc: 0.9122\n",
      "Epoch 404/500\n",
      " - 0s - loss: 0.2842 - acc: 0.9122\n",
      "Epoch 405/500\n",
      " - 0s - loss: 0.2830 - acc: 0.9122\n",
      "Epoch 406/500\n",
      " - 0s - loss: 0.2818 - acc: 0.9143\n",
      "Epoch 407/500\n",
      " - 0s - loss: 0.2806 - acc: 0.9143\n",
      "Epoch 408/500\n",
      " - 0s - loss: 0.2794 - acc: 0.9143\n",
      "Epoch 409/500\n",
      " - 0s - loss: 0.2782 - acc: 0.9143\n",
      "Epoch 410/500\n",
      " - 0s - loss: 0.2770 - acc: 0.9143\n",
      "Epoch 411/500\n",
      " - 0s - loss: 0.2758 - acc: 0.9143\n",
      "Epoch 412/500\n",
      " - 0s - loss: 0.2746 - acc: 0.9143\n",
      "Epoch 413/500\n",
      " - 0s - loss: 0.2735 - acc: 0.9143\n",
      "Epoch 414/500\n",
      " - 0s - loss: 0.2723 - acc: 0.9163\n",
      "Epoch 415/500\n",
      " - 0s - loss: 0.2712 - acc: 0.9143\n",
      "Epoch 416/500\n",
      " - 0s - loss: 0.2701 - acc: 0.9163\n",
      "Epoch 417/500\n",
      " - 0s - loss: 0.2690 - acc: 0.9163\n",
      "Epoch 418/500\n",
      " - 0s - loss: 0.2679 - acc: 0.9163\n",
      "Epoch 419/500\n",
      " - 0s - loss: 0.2668 - acc: 0.9163\n",
      "Epoch 420/500\n",
      " - 0s - loss: 0.2657 - acc: 0.9163\n",
      "Epoch 421/500\n",
      " - 0s - loss: 0.2645 - acc: 0.9163\n",
      "Epoch 422/500\n",
      " - 0s - loss: 0.2632 - acc: 0.9163\n",
      "Epoch 423/500\n",
      " - 0s - loss: 0.2620 - acc: 0.9143\n",
      "Epoch 424/500\n",
      " - 0s - loss: 0.2609 - acc: 0.9163\n",
      "Epoch 425/500\n",
      " - 0s - loss: 0.2598 - acc: 0.9163\n",
      "Epoch 426/500\n",
      " - 0s - loss: 0.2588 - acc: 0.9163\n",
      "Epoch 427/500\n",
      " - 0s - loss: 0.2578 - acc: 0.9204\n",
      "Epoch 428/500\n",
      " - 0s - loss: 0.2567 - acc: 0.9184\n",
      "Epoch 429/500\n",
      " - 0s - loss: 0.2555 - acc: 0.9204\n",
      "Epoch 430/500\n",
      " - 0s - loss: 0.2544 - acc: 0.9204\n",
      "Epoch 431/500\n",
      " - 0s - loss: 0.2533 - acc: 0.9224\n",
      "Epoch 432/500\n",
      " - 0s - loss: 0.2522 - acc: 0.9224\n",
      "Epoch 433/500\n",
      " - 0s - loss: 0.2512 - acc: 0.9265\n",
      "Epoch 434/500\n",
      " - 0s - loss: 0.2501 - acc: 0.9265\n",
      "Epoch 435/500\n",
      " - 0s - loss: 0.2491 - acc: 0.9265\n",
      "Epoch 436/500\n",
      " - 0s - loss: 0.2481 - acc: 0.9286\n",
      "Epoch 437/500\n",
      " - 0s - loss: 0.2470 - acc: 0.9286\n",
      "Epoch 438/500\n",
      " - 0s - loss: 0.2459 - acc: 0.9327\n",
      "Epoch 439/500\n",
      " - 0s - loss: 0.2449 - acc: 0.9327\n",
      "Epoch 440/500\n",
      " - 0s - loss: 0.2438 - acc: 0.9327\n",
      "Epoch 441/500\n",
      " - 0s - loss: 0.2428 - acc: 0.9327\n",
      "Epoch 442/500\n",
      " - 0s - loss: 0.2418 - acc: 0.9327\n",
      "Epoch 443/500\n",
      " - 0s - loss: 0.2408 - acc: 0.9347\n",
      "Epoch 444/500\n",
      " - 0s - loss: 0.2398 - acc: 0.9327\n",
      "Epoch 445/500\n",
      " - 0s - loss: 0.2388 - acc: 0.9347\n",
      "Epoch 446/500\n",
      " - 0s - loss: 0.2378 - acc: 0.9327\n",
      "Epoch 447/500\n",
      " - 0s - loss: 0.2367 - acc: 0.9347\n",
      "Epoch 448/500\n",
      " - 0s - loss: 0.2358 - acc: 0.9347\n",
      "Epoch 449/500\n",
      " - 0s - loss: 0.2348 - acc: 0.9347\n",
      "Epoch 450/500\n",
      " - 0s - loss: 0.2338 - acc: 0.9347\n",
      "Epoch 451/500\n",
      " - 0s - loss: 0.2328 - acc: 0.9347\n",
      "Epoch 452/500\n",
      " - 0s - loss: 0.2318 - acc: 0.9347\n",
      "Epoch 453/500\n",
      " - 0s - loss: 0.2309 - acc: 0.9347\n",
      "Epoch 454/500\n",
      " - 0s - loss: 0.2299 - acc: 0.9347\n",
      "Epoch 455/500\n",
      " - 0s - loss: 0.2289 - acc: 0.9347\n",
      "Epoch 456/500\n",
      " - 0s - loss: 0.2280 - acc: 0.9347\n",
      "Epoch 457/500\n",
      " - 0s - loss: 0.2270 - acc: 0.9347\n",
      "Epoch 458/500\n",
      " - 0s - loss: 0.2261 - acc: 0.9347\n",
      "Epoch 459/500\n",
      " - 0s - loss: 0.2251 - acc: 0.9367\n",
      "Epoch 460/500\n",
      " - 0s - loss: 0.2242 - acc: 0.9347\n",
      "Epoch 461/500\n",
      " - 0s - loss: 0.2233 - acc: 0.9408\n",
      "Epoch 462/500\n",
      " - 0s - loss: 0.2223 - acc: 0.9408\n",
      "Epoch 463/500\n",
      " - 0s - loss: 0.2214 - acc: 0.9429\n",
      "Epoch 464/500\n",
      " - 0s - loss: 0.2205 - acc: 0.9429\n",
      "Epoch 465/500\n",
      " - 0s - loss: 0.2196 - acc: 0.9429\n",
      "Epoch 466/500\n",
      " - 0s - loss: 0.2187 - acc: 0.9429\n",
      "Epoch 467/500\n",
      " - 0s - loss: 0.2178 - acc: 0.9429\n",
      "Epoch 468/500\n",
      " - 0s - loss: 0.2169 - acc: 0.9429\n",
      "Epoch 469/500\n",
      " - 0s - loss: 0.2160 - acc: 0.9429\n",
      "Epoch 470/500\n",
      " - 0s - loss: 0.2151 - acc: 0.9429\n",
      "Epoch 471/500\n",
      " - 0s - loss: 0.2142 - acc: 0.9429\n",
      "Epoch 472/500\n",
      " - 0s - loss: 0.2133 - acc: 0.9429\n",
      "Epoch 473/500\n",
      " - 0s - loss: 0.2125 - acc: 0.9429\n",
      "Epoch 474/500\n",
      " - 0s - loss: 0.2116 - acc: 0.9429\n",
      "Epoch 475/500\n",
      " - 0s - loss: 0.2108 - acc: 0.9429\n",
      "Epoch 476/500\n",
      " - 0s - loss: 0.2100 - acc: 0.9449\n",
      "Epoch 477/500\n",
      " - 0s - loss: 0.2092 - acc: 0.9429\n",
      "Epoch 478/500\n",
      " - 0s - loss: 0.2084 - acc: 0.9469\n",
      "Epoch 479/500\n",
      " - 0s - loss: 0.2077 - acc: 0.9429\n",
      "Epoch 480/500\n",
      " - 0s - loss: 0.2069 - acc: 0.9469\n",
      "Epoch 481/500\n",
      " - 0s - loss: 0.2062 - acc: 0.9429\n",
      "Epoch 482/500\n",
      " - 0s - loss: 0.2053 - acc: 0.9469\n",
      "Epoch 483/500\n",
      " - 0s - loss: 0.2043 - acc: 0.9429\n",
      "Epoch 484/500\n",
      " - 0s - loss: 0.2033 - acc: 0.9469\n",
      "Epoch 485/500\n",
      " - 0s - loss: 0.2025 - acc: 0.9469\n",
      "Epoch 486/500\n",
      " - 0s - loss: 0.2017 - acc: 0.9449\n",
      "Epoch 487/500\n",
      " - 0s - loss: 0.2010 - acc: 0.9469\n",
      "Epoch 488/500\n",
      " - 0s - loss: 0.2003 - acc: 0.9429\n",
      "Epoch 489/500\n",
      " - 0s - loss: 0.1995 - acc: 0.9490\n",
      "Epoch 490/500\n",
      " - 0s - loss: 0.1987 - acc: 0.9449\n",
      "Epoch 491/500\n",
      " - 0s - loss: 0.1978 - acc: 0.9469\n",
      "Epoch 492/500\n",
      " - 0s - loss: 0.1971 - acc: 0.9469\n",
      "Epoch 493/500\n",
      " - 0s - loss: 0.1964 - acc: 0.9469\n",
      "Epoch 494/500\n",
      " - 0s - loss: 0.1957 - acc: 0.9490\n",
      "Epoch 495/500\n",
      " - 0s - loss: 0.1949 - acc: 0.9469\n",
      "Epoch 496/500\n",
      " - 0s - loss: 0.1941 - acc: 0.9490\n",
      "Epoch 497/500\n",
      " - 0s - loss: 0.1934 - acc: 0.9469\n",
      "Epoch 498/500\n",
      " - 0s - loss: 0.1926 - acc: 0.9490\n",
      "Epoch 499/500\n",
      " - 0s - loss: 0.1919 - acc: 0.9490\n",
      "Epoch 500/500\n",
      " - 0s - loss: 0.1913 - acc: 0.9469\n"
     ]
    }
   ],
   "source": [
    "history = model.fit(training, y_train.values, epochs = 500, batch_size = len(training), verbose = 2)"
   ]
  },
  {
   "cell_type": "code",
   "execution_count": 151,
   "metadata": {},
   "outputs": [
    {
     "name": "stdout",
     "output_type": "stream",
     "text": [
      "490/490 [==============================] - 0s 471us/step\n",
      "[0.19053019899494794, 0.95102040767669682]\n"
     ]
    }
   ],
   "source": [
    "loss = model.evaluate(training, y_train.values, verbose = 1)\n",
    "print(loss)"
   ]
  },
  {
   "cell_type": "code",
   "execution_count": 152,
   "metadata": {
    "collapsed": true
   },
   "outputs": [],
   "source": [
    "predictions = model.predict(testing, verbose = 2)"
   ]
  },
  {
   "cell_type": "code",
   "execution_count": 153,
   "metadata": {
    "collapsed": true
   },
   "outputs": [],
   "source": [
    "preds = predictions.round()"
   ]
  },
  {
   "cell_type": "code",
   "execution_count": 154,
   "metadata": {},
   "outputs": [
    {
     "data": {
      "text/plain": [
       "0.40000000000000002"
      ]
     },
     "execution_count": 154,
     "metadata": {},
     "output_type": "execute_result"
    }
   ],
   "source": [
    "accuracy_score(preds,y_test)"
   ]
  },
  {
   "cell_type": "markdown",
   "metadata": {},
   "source": [
    "#### Classification report for the LSTM"
   ]
  },
  {
   "cell_type": "code",
   "execution_count": 155,
   "metadata": {},
   "outputs": [
    {
     "name": "stdout",
     "output_type": "stream",
     "text": [
      "             precision    recall  f1-score   support\n",
      "\n",
      "    class 0       0.00      0.00      0.00         3\n",
      "    class 1       0.57      0.57      0.57         7\n",
      "\n",
      "avg / total       0.40      0.40      0.40        10\n",
      "\n"
     ]
    }
   ],
   "source": [
    "#Classification report for the LSTM\n",
    "target_names = ['class 0', 'class 1']\n",
    "print(classification_report(preds,y_test, target_names=target_names))"
   ]
  },
  {
   "cell_type": "markdown",
   "metadata": {},
   "source": [
    "## VII - Reduction of training set"
   ]
  },
  {
   "cell_type": "markdown",
   "metadata": {
    "collapsed": true
   },
   "source": [
    "Bitcoin has encountered fundemental changes in the last year, months and even weeks. As prices have jumped thousands of dollars in the matter of weeks. Thus, we wanted to experiment with reducing the training set in order to to try to capture the different phases of Bitcoin. We decided to leverage the past 70 days of Bitcoin in order to try to improve accuracy"
   ]
  },
  {
   "cell_type": "markdown",
   "metadata": {},
   "source": [
    "### VII - a) Cross Validated Rolling L1 Regression:"
   ]
  },
  {
   "cell_type": "code",
   "execution_count": 249,
   "metadata": {
    "collapsed": true
   },
   "outputs": [],
   "source": [
    "## Cross validation hyperparameters\n",
    "#define the CV set horizon\n",
    "horizon_cv = 20\n",
    "#define the CV_training set depth\n",
    "depth_cv = 70\n",
    "#define number of features to combine (used for some models)\n",
    "features = features_combin(14)\n",
    "# feature combination : #/!\\ HAS TO BE SET ON 0 if the model takes all the features\n",
    "c = 0"
   ]
  },
  {
   "cell_type": "code",
   "execution_count": 250,
   "metadata": {},
   "outputs": [
    {
     "name": "stdout",
     "output_type": "stream",
     "text": [
      "Training set: 2017-09-06 00:00:00 to 2017-10-25 00:00:00 ; Days:50\n",
      " Testing set: 2017-10-26 00:00:00 to 2017-11-14 00:00:00 ; Days:20\n"
     ]
    }
   ],
   "source": [
    "#X_cv_train, y_cv_train, X_cv_test, y_cv_test = #set the working vectors\n",
    "X_cv_train, y_cv_train, X_cv_test, y_cv_test = split_train_test(X_train, y_train,depth_cv, horizon_cv)"
   ]
  },
  {
   "cell_type": "code",
   "execution_count": 251,
   "metadata": {
    "collapsed": true
   },
   "outputs": [],
   "source": [
    "#initialize a dictionnary in order to store the score of the differents parameters\n",
    "scores = {}\n",
    "\n",
    "#loop over the different parameters possiblities\n",
    "for i in range(1,11,1):\n",
    "    for j in range(1,11,1):\n",
    "        for k in range(1,11,1):\n",
    "            \n",
    "            #store the hyperparameters combination\n",
    "            triple = str([i,j,k])\n",
    "\n",
    "            #call the logistic regression\n",
    "            log_l1 = LogisticRegression(penalty='l1', \n",
    "                                     C=i/10, \n",
    "                                     class_weight = {0: j/10, 1: k/10}, \n",
    "                                     random_state=0, \n",
    "                                     solver='saga', \n",
    "                                     max_iter=300, \n",
    "                                     verbose=0)\n",
    "            \n",
    "            #call the rolling prediction function on the CV set\n",
    "            y_predict = rolling_prediction(log_l1, X_cv_train, y_cv_train, X_cv_test, y_cv_test, verbose = 0)\n",
    "            \n",
    "            #compute the score on the cv\n",
    "            score = accuracy_score(y_cv_test.values, y_predict)\n",
    "            \n",
    "            #store the score as the values of the triple key\n",
    "            scores[triple] = score\n",
    "            \n",
    "            #print(triple, score)\n",
    "            \n",
    " #sort dictionnary by occurence order to find the best scores\n",
    "scores_sort = sorted(scores.items(), key=lambda x: x[1], reverse=True)"
   ]
  },
  {
   "cell_type": "code",
   "execution_count": 168,
   "metadata": {},
   "outputs": [
    {
     "name": "stdout",
     "output_type": "stream",
     "text": [
      "[('[1, 9, 8]', 0.65000000000000002), ('[1, 10, 9]', 0.65000000000000002), ('[1, 1, 2]', 0.59999999999999998), ('[1, 1, 3]', 0.59999999999999998), ('[1, 1, 4]', 0.59999999999999998)]\n"
     ]
    }
   ],
   "source": [
    "#print best model with its score on the CV set, the L1-logistic\n",
    "print(scores_sort[:5])"
   ]
  },
  {
   "cell_type": "markdown",
   "metadata": {
    "collapsed": true
   },
   "source": [
    "The L1 CV Log Regression on 50 days training set is here overperforming the null model. Let's try it on the test set"
   ]
  },
  {
   "cell_type": "code",
   "execution_count": 169,
   "metadata": {
    "collapsed": true
   },
   "outputs": [],
   "source": [
    "#call the model with the best 3-hyperparameters:\n",
    "log_l1 = LogisticRegression(penalty='l1', \n",
    "                                     C=1, \n",
    "                                     class_weight = {0: 1, 1: 0.9}, \n",
    "                                     random_state=0, \n",
    "                                     solver='saga', \n",
    "                                     max_iter=500, \n",
    "                                     verbose=0)"
   ]
  },
  {
   "cell_type": "code",
   "execution_count": 170,
   "metadata": {},
   "outputs": [
    {
     "name": "stdout",
     "output_type": "stream",
     "text": [
      "Prediction n°: 1 ; test_value: [1]\n",
      "value predicted: [0] ; accurate: [False]\n",
      "--------------------------------------------------------------------------------\n",
      "Prediction n°: 2 ; test_value: [1]\n",
      "value predicted: [1] ; accurate: [ True]\n",
      "--------------------------------------------------------------------------------\n",
      "Prediction n°: 3 ; test_value: [0]\n",
      "value predicted: [1] ; accurate: [False]\n",
      "--------------------------------------------------------------------------------\n",
      "Prediction n°: 4 ; test_value: [1]\n",
      "value predicted: [1] ; accurate: [ True]\n",
      "--------------------------------------------------------------------------------\n",
      "Prediction n°: 5 ; test_value: [1]\n",
      "value predicted: [1] ; accurate: [ True]\n",
      "--------------------------------------------------------------------------------\n",
      "Prediction n°: 6 ; test_value: [1]\n",
      "value predicted: [1] ; accurate: [ True]\n",
      "--------------------------------------------------------------------------------\n",
      "Prediction n°: 7 ; test_value: [0]\n",
      "value predicted: [1] ; accurate: [False]\n",
      "--------------------------------------------------------------------------------\n",
      "Prediction n°: 8 ; test_value: [1]\n",
      "value predicted: [1] ; accurate: [ True]\n",
      "--------------------------------------------------------------------------------\n",
      "Prediction n°: 9 ; test_value: [0]\n",
      "value predicted: [1] ; accurate: [False]\n",
      "--------------------------------------------------------------------------------\n",
      "Prediction n°: 10 ; test_value: [1]\n",
      "value predicted: [1] ; accurate: [ True]\n",
      "--------------------------------------------------------------------------------\n"
     ]
    }
   ],
   "source": [
    "#test the model on the final test set\n",
    "y_predict = rolling_prediction(log_l1, X_train, y_train, X_test, y_test, verbose = 1)"
   ]
  },
  {
   "cell_type": "code",
   "execution_count": 171,
   "metadata": {},
   "outputs": [
    {
     "name": "stdout",
     "output_type": "stream",
     "text": [
      "             precision    recall  f1-score   support\n",
      "\n",
      "    class 0       0.00      0.00      0.00         3\n",
      "    class 1       0.67      0.86      0.75         7\n",
      "\n",
      "avg / total       0.47      0.60      0.53        10\n",
      "\n"
     ]
    }
   ],
   "source": [
    "#Classification report for the non CV L1 score\n",
    "target_names = ['class 0', 'class 1']\n",
    "print(classification_report(y_test.values, y_predict, target_names=target_names))"
   ]
  },
  {
   "cell_type": "code",
   "execution_count": 172,
   "metadata": {},
   "outputs": [
    {
     "name": "stdout",
     "output_type": "stream",
     "text": [
      "L1 best CV Logistic Regression score (70 days training set):  0.6\n"
     ]
    }
   ],
   "source": [
    "#print the score of the last rolling prediction\n",
    "score = accuracy_score(y_test.values, y_predict)\n",
    "print('L1 best CV Logistic Regression score (70 days training set): ', score)"
   ]
  },
  {
   "cell_type": "markdown",
   "metadata": {},
   "source": [
    "### VII - b) Cross Validated Rolling Random Forest with 70 days training set"
   ]
  },
  {
   "cell_type": "code",
   "execution_count": 180,
   "metadata": {
    "collapsed": true
   },
   "outputs": [],
   "source": [
    "## Cross validation hyperparameters\n",
    "#define the CV set horizon\n",
    "horizon = 10\n",
    "#define the CV_training set depth\n",
    "depth = 70 + horizon\n",
    "#define number of features to combine (used for some models)\n",
    "features = features_combin(21)\n",
    "#feature combination\n",
    "c = 0"
   ]
  },
  {
   "cell_type": "code",
   "execution_count": 174,
   "metadata": {},
   "outputs": [
    {
     "name": "stdout",
     "output_type": "stream",
     "text": [
      "Training set: 2017-09-06 00:00:00 to 2017-11-14 00:00:00 ; Days:70\n",
      " Testing set: 2017-11-15 00:00:00 to 2017-11-24 00:00:00 ; Days:10\n"
     ]
    }
   ],
   "source": [
    "#set the working vectors for CV\n",
    "X_train, y_train, X_test, y_test = split_train_test(df_features, target,depth, horizon)"
   ]
  },
  {
   "cell_type": "code",
   "execution_count": 179,
   "metadata": {
    "collapsed": true
   },
   "outputs": [],
   "source": [
    "## Cross validation hyperparameters\n",
    "#define the CV set horizon\n",
    "horizon = 20\n",
    "#define the CV_training set depth\n",
    "depth = 70\n",
    "#define number of features to combine (used for some models)\n",
    "features = features_combin(21)\n",
    "#feature combination\n",
    "c = 0"
   ]
  },
  {
   "cell_type": "code",
   "execution_count": 176,
   "metadata": {
    "collapsed": true
   },
   "outputs": [],
   "source": [
    "#initialize a dictionnary in order to store the score of the differents parameters\n",
    "scores = {}\n",
    "\n",
    "for i in range(8, 14):\n",
    "    \n",
    "    #set the working vectors\n",
    "    X_train, y_train, X_test, y_test = split_train_test(df_features, target,depth, horizon, verbose = False)\n",
    "       \n",
    "    #set the working vectors for CV\n",
    "    X_cv_train, y_cv_train, X_cv_test, y_cv_test = split_train_test(X_train,y_train,depth_cv, horizon_cv, verbose = False)\n",
    "    \n",
    "    #call the l2-logistic regression\n",
    "    Rf = RandomForestClassifier(n_estimators=100, \n",
    "                           criterion=\"entropy\", \n",
    "                           max_depth=5,\n",
    "                           max_features=i, \n",
    "                           min_samples_split=4, \n",
    "                           max_leaf_nodes = 10,\n",
    "                           random_state=0)\n",
    "    \n",
    "    #set the test and training set to the right features\n",
    "    y_predict = rolling_prediction(Rf, X_train, y_train, X_test, y_test, verbose = 0)\n",
    "\n",
    "    #compute the score on the cv\n",
    "    score = accuracy_score(y_cv_test.values, y_predict)\n",
    "\n",
    "    #store the score as the values of the triple key\n",
    "    scores[i] = score\n",
    "\n",
    "    #print(triple, score)\n",
    "            \n",
    " #sort dictionnary by occurence order to find the best scores\n",
    "scores_sort = sorted(scores.items(), key=lambda x: x[1], reverse=True)"
   ]
  },
  {
   "cell_type": "code",
   "execution_count": 177,
   "metadata": {},
   "outputs": [
    {
     "name": "stdout",
     "output_type": "stream",
     "text": [
      "(9, 0.59999999999999998)\n"
     ]
    }
   ],
   "source": [
    "print(scores_sort[0])"
   ]
  },
  {
   "cell_type": "markdown",
   "metadata": {
    "collapsed": true
   },
   "source": [
    "Here again, the Rolling random forest trained over 70 days outperforms the null model on the CV set. \n",
    "Let's try it on the test set !"
   ]
  },
  {
   "cell_type": "code",
   "execution_count": 181,
   "metadata": {},
   "outputs": [
    {
     "name": "stdout",
     "output_type": "stream",
     "text": [
      "Training set: 2017-09-06 00:00:00 to 2017-11-14 00:00:00 ; Days:70\n",
      " Testing set: 2017-11-15 00:00:00 to 2017-11-24 00:00:00 ; Days:10\n",
      "Prediction n°: 1 ; test_value: [1]\n",
      "value predicted: [1] ; accurate: [ True]\n",
      "--------------------------------------------------------------------------------\n",
      "Prediction n°: 2 ; test_value: [1]\n",
      "value predicted: [1] ; accurate: [ True]\n",
      "--------------------------------------------------------------------------------\n",
      "Prediction n°: 3 ; test_value: [0]\n",
      "value predicted: [1] ; accurate: [False]\n",
      "--------------------------------------------------------------------------------\n",
      "Prediction n°: 4 ; test_value: [1]\n",
      "value predicted: [0] ; accurate: [False]\n",
      "--------------------------------------------------------------------------------\n",
      "Prediction n°: 5 ; test_value: [1]\n",
      "value predicted: [1] ; accurate: [ True]\n",
      "--------------------------------------------------------------------------------\n",
      "Prediction n°: 6 ; test_value: [1]\n",
      "value predicted: [1] ; accurate: [ True]\n",
      "--------------------------------------------------------------------------------\n",
      "Prediction n°: 7 ; test_value: [0]\n",
      "value predicted: [1] ; accurate: [False]\n",
      "--------------------------------------------------------------------------------\n",
      "Prediction n°: 8 ; test_value: [1]\n",
      "value predicted: [1] ; accurate: [ True]\n",
      "--------------------------------------------------------------------------------\n",
      "Prediction n°: 9 ; test_value: [0]\n",
      "value predicted: [1] ; accurate: [False]\n",
      "--------------------------------------------------------------------------------\n",
      "Prediction n°: 10 ; test_value: [1]\n",
      "value predicted: [1] ; accurate: [ True]\n",
      "--------------------------------------------------------------------------------\n"
     ]
    }
   ],
   "source": [
    "#set the working vectors\n",
    "X_train, y_train, X_test, y_test = split_train_test(df_features, target,depth, horizon, verbose = True)\n",
    "\n",
    "#call the l2-logistic regression\n",
    "Rf = RandomForestClassifier(n_estimators=100, \n",
    "                       criterion=\"entropy\", \n",
    "                       max_depth=5,\n",
    "                       max_features=9, \n",
    "                       min_samples_split=4, \n",
    "                       max_leaf_nodes = 10,\n",
    "                       random_state=0)\n",
    "\n",
    "#set the test and training set to the right features\n",
    "y_predict = rolling_prediction(Rf, X_train, y_train, X_test, y_test, verbose = 1)\n",
    "\n",
    "#compute the score on the cv\n",
    "score = accuracy_score(y_test.values, y_predict)"
   ]
  },
  {
   "cell_type": "code",
   "execution_count": 182,
   "metadata": {},
   "outputs": [
    {
     "name": "stdout",
     "output_type": "stream",
     "text": [
      "             precision    recall  f1-score   support\n",
      "\n",
      "    class 0       0.00      0.00      0.00         3\n",
      "    class 1       0.67      0.86      0.75         7\n",
      "\n",
      "avg / total       0.47      0.60      0.53        10\n",
      "\n"
     ]
    }
   ],
   "source": [
    "#Classification report for the best CV random forest\n",
    "target_names = ['class 0', 'class 1']\n",
    "print(classification_report(y_test.values, y_predict, target_names=target_names))"
   ]
  },
  {
   "cell_type": "code",
   "execution_count": 183,
   "metadata": {},
   "outputs": [
    {
     "name": "stdout",
     "output_type": "stream",
     "text": [
      "Best CV Random Forest Model test score:  0.6\n"
     ]
    }
   ],
   "source": [
    "#print the test score of the best CV Randome Forest\n",
    "print('Best CV Random Forest Model test score: ', score)"
   ]
  },
  {
   "cell_type": "markdown",
   "metadata": {},
   "source": [
    "Finally, reducing the training set to 70 days led us to poorer results, whether it is with the Random Forest or with the Lasso."
   ]
  },
  {
   "cell_type": "markdown",
   "metadata": {
    "collapsed": true
   },
   "source": [
    "## VIII - Final scores"
   ]
  },
  {
   "cell_type": "markdown",
   "metadata": {},
   "source": [
    "### VIII - a) Cross Validation scores depending on models"
   ]
  },
  {
   "cell_type": "code",
   "execution_count": 223,
   "metadata": {},
   "outputs": [
    {
     "data": {
      "image/png": "[encoded data removed]",
      "text/plain": [
       "<matplotlib.figure.Figure at 0x16e043b4780>"
      ]
     },
     "metadata": {},
     "output_type": "display_data"
    }
   ],
   "source": [
    "#plot the CV scores\n",
    "x, height = np.arange(4),[0.6, 0.65, 0.65, 0.7]\n",
    "colors = ['black', 'royalblue', 'palegreen', 'gold']\n",
    "\n",
    "fig, ax = plt.subplots(figsize = (8,4))\n",
    "ax.bar(x, height, alpha=0.5, color=colors)\n",
    "ax.margins(0.01)\n",
    "plt.xticks(x, ('Null model CV', 'Rolling L2', 'Rolling R_Forest', 'Rolling L1'))\n",
    "plt.title('Cross Validation scores of the differents models')\n",
    "ax.set_ylim([0,1])\n",
    "for i, v in enumerate(height):\n",
    "    ax.text(i, v+0.01, str(v), color='red', fontweight='bold', horizontalalignment ='center')\n",
    "plt.show()"
   ]
  },
  {
   "cell_type": "markdown",
   "metadata": {},
   "source": [
    "It is important ot note, that the rolling random forest for 70 days had the highest cross validation score out of all our models and training sets. "
   ]
  },
  {
   "cell_type": "markdown",
   "metadata": {},
   "source": [
    "### VIII - b) Test scores depending on models"
   ]
  },
  {
   "cell_type": "code",
   "execution_count": 224,
   "metadata": {},
   "outputs": [
    {
     "data": {
      "image/png": "[encoded data removed]",
      "text/plain": [
       "<matplotlib.figure.Figure at 0x16e06cbbc50>"
      ]
     },
     "metadata": {},
     "output_type": "display_data"
    }
   ],
   "source": [
    "#plot the TEST scores\n",
    "x, height = np.arange(5),[0.7, 0.7, 0.7, 0.8, 0.4]\n",
    "colors = ['black', 'navy', 'green','gold', 'grey', ]\n",
    "\n",
    "fig, ax = plt.subplots(figsize = (10.5,5))\n",
    "ax.bar(x, height, alpha=0.5, color=colors)\n",
    "ax.margins(0.01)\n",
    "plt.xticks(x, ('Null model','Rolling L2', 'Rolling R_Forest','Rolling L1',  'LSTM' ))\n",
    "plt.title('Test scores of the different models')\n",
    "ax.set_ylim([0,1])\n",
    "for i, v in enumerate(height):\n",
    "    ax.text(i, v+0.01, str(v), color='red', fontweight='bold', horizontalalignment ='center')\n",
    "plt.show()"
   ]
  },
  {
   "cell_type": "markdown",
   "metadata": {},
   "source": [
    "Ultimately, there was no difference between the size of the trianing set, if anything decreasing it led to a smaller accuracy on some models, but with higher cross validation on others. "
   ]
  }
 ],
 "metadata": {
  "kernelspec": {
   "display_name": "Python 3",
   "language": "python",
   "name": "python3"
  },
  "language_info": {
   "codemirror_mode": {
    "name": "ipython",
    "version": 3
   },
   "file_extension": ".py",
   "mimetype": "text/x-python",
   "name": "python",
   "nbconvert_exporter": "python",
   "pygments_lexer": "ipython3",
   "version": "3.6.2"
  }
 },
 "nbformat": 4,
 "nbformat_minor": 2
}
